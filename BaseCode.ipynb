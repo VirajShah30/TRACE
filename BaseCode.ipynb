{
  "cells": [
    {
      "cell_type": "code",
      "execution_count": 1,
      "metadata": {
        "id": "XLpD_XhohNuK",
        "colab": {
          "base_uri": "https://localhost:8080/"
        },
        "outputId": "d42afba0-dc29-4812-d021-3abb3b518ec2"
      },
      "outputs": [
        {
          "output_type": "stream",
          "name": "stdout",
          "text": [
            "Requirement already satisfied: transformers in /usr/local/lib/python3.10/dist-packages (4.44.2)\n",
            "Requirement already satisfied: datasets in /usr/local/lib/python3.10/dist-packages (3.1.0)\n",
            "Requirement already satisfied: evaluate in /usr/local/lib/python3.10/dist-packages (0.4.3)\n",
            "Requirement already satisfied: filelock in /usr/local/lib/python3.10/dist-packages (from transformers) (3.16.1)\n",
            "Requirement already satisfied: huggingface-hub<1.0,>=0.23.2 in /usr/local/lib/python3.10/dist-packages (from transformers) (0.24.7)\n",
            "Requirement already satisfied: numpy>=1.17 in /usr/local/lib/python3.10/dist-packages (from transformers) (1.26.4)\n",
            "Requirement already satisfied: packaging>=20.0 in /usr/local/lib/python3.10/dist-packages (from transformers) (24.1)\n",
            "Requirement already satisfied: pyyaml>=5.1 in /usr/local/lib/python3.10/dist-packages (from transformers) (6.0.2)\n",
            "Requirement already satisfied: regex!=2019.12.17 in /usr/local/lib/python3.10/dist-packages (from transformers) (2024.9.11)\n",
            "Requirement already satisfied: requests in /usr/local/lib/python3.10/dist-packages (from transformers) (2.32.3)\n",
            "Requirement already satisfied: safetensors>=0.4.1 in /usr/local/lib/python3.10/dist-packages (from transformers) (0.4.5)\n",
            "Requirement already satisfied: tokenizers<0.20,>=0.19 in /usr/local/lib/python3.10/dist-packages (from transformers) (0.19.1)\n",
            "Requirement already satisfied: tqdm>=4.27 in /usr/local/lib/python3.10/dist-packages (from transformers) (4.66.5)\n",
            "Requirement already satisfied: pyarrow>=15.0.0 in /usr/local/lib/python3.10/dist-packages (from datasets) (18.1.0)\n",
            "Requirement already satisfied: dill<0.3.9,>=0.3.0 in /usr/local/lib/python3.10/dist-packages (from datasets) (0.3.8)\n",
            "Requirement already satisfied: pandas in /usr/local/lib/python3.10/dist-packages (from datasets) (2.1.4)\n",
            "Requirement already satisfied: xxhash in /usr/local/lib/python3.10/dist-packages (from datasets) (3.5.0)\n",
            "Requirement already satisfied: multiprocess<0.70.17 in /usr/local/lib/python3.10/dist-packages (from datasets) (0.70.16)\n",
            "Requirement already satisfied: fsspec<=2024.9.0,>=2023.1.0 in /usr/local/lib/python3.10/dist-packages (from fsspec[http]<=2024.9.0,>=2023.1.0->datasets) (2024.6.1)\n",
            "Requirement already satisfied: aiohttp in /usr/local/lib/python3.10/dist-packages (from datasets) (3.10.5)\n",
            "Requirement already satisfied: aiohappyeyeballs>=2.3.0 in /usr/local/lib/python3.10/dist-packages (from aiohttp->datasets) (2.4.0)\n",
            "Requirement already satisfied: aiosignal>=1.1.2 in /usr/local/lib/python3.10/dist-packages (from aiohttp->datasets) (1.3.1)\n",
            "Requirement already satisfied: attrs>=17.3.0 in /usr/local/lib/python3.10/dist-packages (from aiohttp->datasets) (24.2.0)\n",
            "Requirement already satisfied: frozenlist>=1.1.1 in /usr/local/lib/python3.10/dist-packages (from aiohttp->datasets) (1.4.1)\n",
            "Requirement already satisfied: multidict<7.0,>=4.5 in /usr/local/lib/python3.10/dist-packages (from aiohttp->datasets) (6.1.0)\n",
            "Requirement already satisfied: yarl<2.0,>=1.0 in /usr/local/lib/python3.10/dist-packages (from aiohttp->datasets) (1.11.1)\n",
            "Requirement already satisfied: async-timeout<5.0,>=4.0 in /usr/local/lib/python3.10/dist-packages (from aiohttp->datasets) (4.0.3)\n",
            "Requirement already satisfied: typing-extensions>=3.7.4.3 in /usr/local/lib/python3.10/dist-packages (from huggingface-hub<1.0,>=0.23.2->transformers) (4.12.2)\n",
            "Requirement already satisfied: charset-normalizer<4,>=2 in /usr/local/lib/python3.10/dist-packages (from requests->transformers) (3.3.2)\n",
            "Requirement already satisfied: idna<4,>=2.5 in /usr/local/lib/python3.10/dist-packages (from requests->transformers) (3.10)\n",
            "Requirement already satisfied: urllib3<3,>=1.21.1 in /usr/local/lib/python3.10/dist-packages (from requests->transformers) (2.2.3)\n",
            "Requirement already satisfied: certifi>=2017.4.17 in /usr/local/lib/python3.10/dist-packages (from requests->transformers) (2024.8.30)\n",
            "Requirement already satisfied: python-dateutil>=2.8.2 in /usr/local/lib/python3.10/dist-packages (from pandas->datasets) (2.8.2)\n",
            "Requirement already satisfied: pytz>=2020.1 in /usr/local/lib/python3.10/dist-packages (from pandas->datasets) (2024.2)\n",
            "Requirement already satisfied: tzdata>=2022.1 in /usr/local/lib/python3.10/dist-packages (from pandas->datasets) (2024.1)\n",
            "Requirement already satisfied: six>=1.5 in /usr/local/lib/python3.10/dist-packages (from python-dateutil>=2.8.2->pandas->datasets) (1.16.0)\n"
          ]
        }
      ],
      "source": [
        "!pip install transformers datasets evaluate"
      ]
    },
    {
      "cell_type": "code",
      "execution_count": 2,
      "metadata": {
        "id": "hWPNPAcChTb1"
      },
      "outputs": [],
      "source": [
        "from transformers import AutoTokenizer, AutoModelForCausalLM\n",
        "from datasets import load_dataset\n",
        "import evaluate\n",
        "import torch\n",
        "import ast"
      ]
    },
    {
      "cell_type": "markdown",
      "metadata": {
        "id": "gx7KeswnhpK8"
      },
      "source": [
        "## ***Get Dataset - BigCodeBench***"
      ]
    },
    {
      "cell_type": "code",
      "execution_count": 3,
      "metadata": {
        "id": "wgnHDEJFhWqC",
        "colab": {
          "base_uri": "https://localhost:8080/"
        },
        "outputId": "66df1659-e901-4161-c7d8-da32743d3898"
      },
      "outputs": [
        {
          "output_type": "stream",
          "name": "stderr",
          "text": [
            "/usr/local/lib/python3.10/dist-packages/huggingface_hub/utils/_token.py:89: UserWarning: \n",
            "The secret `HF_TOKEN` does not exist in your Colab secrets.\n",
            "To authenticate with the Hugging Face Hub, create a token in your settings tab (https://huggingface.co/settings/tokens), set it as secret in your Google Colab and restart your session.\n",
            "You will be able to reuse this secret in all of your notebooks.\n",
            "Please note that authentication is recommended but still optional to access public models or datasets.\n",
            "  warnings.warn(\n"
          ]
        }
      ],
      "source": [
        "dataset = load_dataset(\"bigcode/bigcodebench\", split=\"v0.1.0_hf[:100]\")"
      ]
    },
    {
      "cell_type": "markdown",
      "metadata": {
        "id": "afjqTCSYh1Hj"
      },
      "source": [
        "## ***Initialize Models***"
      ]
    },
    {
      "cell_type": "code",
      "execution_count": 4,
      "metadata": {
        "id": "5g6imT1GhZCz"
      },
      "outputs": [],
      "source": [
        "model_names = {                               #TODO : Change Model to check improvement\n",
        "    \"CodeLlama\": \"codellama/CodeLlama-7b-hf\",\n",
        "}\n",
        "\n",
        "tokenizers = {}\n",
        "models = {}"
      ]
    },
    {
      "cell_type": "code",
      "source": [],
      "metadata": {
        "id": "aM9hZNK-VMu2"
      },
      "execution_count": 4,
      "outputs": []
    },
    {
      "cell_type": "code",
      "execution_count": 5,
      "metadata": {
        "id": "tEU8TPxnheMH",
        "colab": {
          "base_uri": "https://localhost:8080/",
          "height": 49,
          "referenced_widgets": [
            "f4eedd63d8ea4c14a8b35316063a11db",
            "1fa2612a9c6a4628941cf92e5bdc67e0",
            "9e0d090b21d4477ead4c63fb83822852",
            "a43710c3299843658f036b1ae170915b",
            "41e12ea7f44d440c993cb5d87b8b1e25",
            "e029790810d941abba26380d9509fa49",
            "ab3296212c1e4a43a41abf49829d5fd4",
            "56e6803a6ba04593a9f6a936862d88d1",
            "6f8d4bc790ae4e05ab836cdabfde249e",
            "a8278866e1e0445895998a29f4d8707e",
            "38eaa85ef9274a2d85085fb6914dea33"
          ]
        },
        "outputId": "c61c8769-c1ab-4bb5-a121-3b8d75372808"
      },
      "outputs": [
        {
          "output_type": "display_data",
          "data": {
            "text/plain": [
              "Loading checkpoint shards:   0%|          | 0/2 [00:00<?, ?it/s]"
            ],
            "application/vnd.jupyter.widget-view+json": {
              "version_major": 2,
              "version_minor": 0,
              "model_id": "f4eedd63d8ea4c14a8b35316063a11db"
            }
          },
          "metadata": {}
        }
      ],
      "source": [
        "device = torch.device(\"cuda\" if torch.cuda.is_available() else \"cpu\")\n",
        "\n",
        "for name, model_id in model_names.items():\n",
        "    tokenizers[name] = AutoTokenizer.from_pretrained(model_id)\n",
        "    models[name] = AutoModelForCausalLM.from_pretrained(model_id, torch_dtype=torch.float16)\n",
        "    models[name] = models[name].to(device)"
      ]
    },
    {
      "cell_type": "markdown",
      "metadata": {
        "id": "CF6dnQdeh7tm"
      },
      "source": [
        "## ***Feedback Model***"
      ]
    },
    {
      "cell_type": "code",
      "execution_count": 6,
      "metadata": {
        "id": "5erEP-eQi5sN"
      },
      "outputs": [],
      "source": [
        "def generate_feedback(evaluation_result):\n",
        "    # TODO : Implement funtion for Reinforcement\n",
        "    pass"
      ]
    },
    {
      "cell_type": "code",
      "execution_count": 7,
      "metadata": {
        "id": "WmGdchNsiEJi"
      },
      "outputs": [],
      "source": [
        "#[IMPORTANT : Run evaluation block before running this cell]\n",
        "def generate_score(prompt, model, tokenizer, data, max_length=1000):\n",
        "    n = 5 #TODO : Set N based on your inplementation\n",
        "    for _ in range(n):\n",
        "      inputs = tokenizer(prompt, return_tensors=\"pt\").to(device)\n",
        "      output = model.generate(**inputs, max_length=max_length, top_p=0.9, do_sample=True)\n",
        "      generated_code = tokenizer.decode(output[0], skip_special_tokens=True)\n",
        "      evaluation_result = evaluate_code_generation(generated_code, data['test'], ast.literal_eval(data['libs']))\n",
        "      prompt = generate_feedback(evaluation_result) #TODO : Implement funtion partametrs for Reinforcement\n",
        "    return evaluation_result[\"pass_ratio\"]"
      ]
    },
    {
      "cell_type": "code",
      "execution_count": 10,
      "metadata": {
        "id": "fTwybgwGiOFq",
        "colab": {
          "base_uri": "https://localhost:8080/",
          "height": 1000
        },
        "outputId": "71a43fcd-fac7-46f7-db2a-642ad69c253f"
      },
      "outputs": [
        {
          "output_type": "stream",
          "name": "stderr",
          "text": [
            "Setting `pad_token_id` to `eos_token_id`:2 for open-end generation.\n"
          ]
        },
        {
          "output_type": "stream",
          "name": "stdout",
          "text": [
            "1\n"
          ]
        },
        {
          "output_type": "stream",
          "name": "stderr",
          "text": [
            ".FE.FEE...\n",
            "======================================================================\n",
            "ERROR: test_empty_list (builtins.TestCases)\n",
            "----------------------------------------------------------------------\n",
            "Traceback (most recent call last):\n",
            "  File \"<string>\", line 28, in test_empty_list\n",
            "  File \"<string>\", line 30, in task_func\n",
            "ValueError: Please provide a non-empty list of positive integers.\n",
            "\n",
            "======================================================================\n",
            "ERROR: test_mixed_numbers (builtins.TestCases)\n",
            "----------------------------------------------------------------------\n",
            "Traceback (most recent call last):\n",
            "  File \"<string>\", line 38, in test_mixed_numbers\n",
            "  File \"<string>\", line 30, in task_func\n",
            "ValueError: Please provide a non-empty list of positive integers.\n",
            "\n",
            "======================================================================\n",
            "ERROR: test_negative_numbers (builtins.TestCases)\n",
            "----------------------------------------------------------------------\n",
            "Traceback (most recent call last):\n",
            "  File \"<string>\", line 18, in test_negative_numbers\n",
            "  File \"<string>\", line 30, in task_func\n",
            "ValueError: Please provide a non-empty list of positive integers.\n",
            "\n",
            "======================================================================\n",
            "FAIL: test_default_numbers (builtins.TestCases)\n",
            "----------------------------------------------------------------------\n",
            "Traceback (most recent call last):\n",
            "  File \"<string>\", line 10, in test_default_numbers\n",
            "AssertionError: 0.0 not greater than 0\n",
            "\n",
            "======================================================================\n",
            "FAIL: test_large_list_with_seed (builtins.TestCases)\n",
            "----------------------------------------------------------------------\n",
            "Traceback (most recent call last):\n",
            "  File \"<string>\", line 50, in test_large_list_with_seed\n",
            "AssertionError: 29.703040399029984 != 33.0 within 0.5 delta (3.296959600970016 difference)\n",
            "\n",
            "----------------------------------------------------------------------\n",
            "Ran 10 tests in 23.642s\n",
            "\n",
            "FAILED (failures=2, errors=3)\n",
            "Setting `pad_token_id` to `eos_token_id`:2 for open-end generation.\n"
          ]
        },
        {
          "output_type": "stream",
          "name": "stdout",
          "text": [
            "2\n"
          ]
        },
        {
          "output_type": "stream",
          "name": "stderr",
          "text": [
            "Setting `pad_token_id` to `eos_token_id`:2 for open-end generation.\n"
          ]
        },
        {
          "output_type": "stream",
          "name": "stdout",
          "text": [
            "3\n"
          ]
        },
        {
          "output_type": "stream",
          "name": "stderr",
          "text": [
            "...EF\n",
            "======================================================================\n",
            "ERROR: test_case_4 (builtins.TestCases)\n",
            "----------------------------------------------------------------------\n",
            "Traceback (most recent call last):\n",
            "  File \"<string>\", line 23, in test_case_4\n",
            "  File \"<string>\", line 23, in <listcomp>\n",
            "NameError: name 'statistics' is not defined\n",
            "\n",
            "======================================================================\n",
            "FAIL: test_case_5 (builtins.TestCases)\n",
            "----------------------------------------------------------------------\n",
            "Traceback (most recent call last):\n",
            "  File \"<string>\", line 28, in test_case_5\n",
            "AssertionError: Items in the second set but not the first:\n",
            "'p'\n",
            "'q'\n",
            "'w'\n",
            "'n'\n",
            "'k'\n",
            "'s'\n",
            "'t'\n",
            "'d' : The dictionary should have all provided letters as keys.\n",
            "\n",
            "----------------------------------------------------------------------\n",
            "Ran 5 tests in 0.009s\n",
            "\n",
            "FAILED (failures=1, errors=1)\n",
            "Setting `pad_token_id` to `eos_token_id`:2 for open-end generation.\n"
          ]
        },
        {
          "output_type": "stream",
          "name": "stdout",
          "text": [
            "\n",
            "----- TEST 1 -----\n",
            "\n",
            "----- TEST 2 -----\n",
            "\n",
            "----- TEST 3 -----\n",
            "\n",
            "----- TEST 4 -----\n",
            "\n",
            "----- TEST 5 -----\n",
            "\n",
            "----- TEST 6 -----\n",
            "\n",
            "----- TEST 7 -----\n",
            "\n",
            "----- TEST 8 -----\n",
            "\n",
            "----- TEST 9 -----\n",
            "\n",
            "----- TEST 10 -----\n",
            "\n",
            "----- TEST 11 -----\n",
            "\n",
            "----- TEST 12 -----\n",
            "\n",
            "----- TEST 13 -----\n",
            "\n",
            "----- TEST 14 -----\n",
            "\n",
            "----- TEST 15 -----\n",
            "\n",
            "----- TEST 16 -----\n",
            "4\n"
          ]
        },
        {
          "output_type": "stream",
          "name": "stderr",
          "text": [
            ".....\n",
            "----------------------------------------------------------------------\n",
            "Ran 5 tests in 0.009s\n",
            "\n",
            "OK\n",
            "Setting `pad_token_id` to `eos_token_id`:2 for open-end generation.\n"
          ]
        },
        {
          "output_type": "stream",
          "name": "stdout",
          "text": [
            "5\n"
          ]
        },
        {
          "output_type": "stream",
          "name": "stderr",
          "text": [
            "Setting `pad_token_id` to `eos_token_id`:2 for open-end generation.\n"
          ]
        },
        {
          "output_type": "stream",
          "name": "stdout",
          "text": [
            "6\n"
          ]
        },
        {
          "output_type": "stream",
          "name": "stderr",
          "text": [
            "Setting `pad_token_id` to `eos_token_id`:2 for open-end generation.\n"
          ]
        },
        {
          "output_type": "stream",
          "name": "stdout",
          "text": [
            "7\n"
          ]
        },
        {
          "output_type": "stream",
          "name": "stderr",
          "text": [
            "EEEEF\n",
            "======================================================================\n",
            "ERROR: test_case_1 (builtins.TestCases)\n",
            "----------------------------------------------------------------------\n",
            "Traceback (most recent call last):\n",
            "  File \"/usr/lib/python3.10/unittest/mock.py\", line 1379, in patched\n",
            "    return func(*newargs, **newkeywargs)\n",
            "  File \"<string>\", line 12, in test_case_1\n",
            "  File \"<string>\", line 29, in task_func\n",
            "FileNotFoundError: [Errno 2] No such file or directory: '/mock_dir/'\n",
            "\n",
            "======================================================================\n",
            "ERROR: test_case_2 (builtins.TestCases)\n",
            "----------------------------------------------------------------------\n",
            "Traceback (most recent call last):\n",
            "  File \"/usr/lib/python3.10/unittest/mock.py\", line 1379, in patched\n",
            "    return func(*newargs, **newkeywargs)\n",
            "  File \"<string>\", line 21, in test_case_2\n",
            "  File \"<string>\", line 29, in task_func\n",
            "FileNotFoundError: [Errno 2] No such file or directory: '/mock_dir/'\n",
            "\n",
            "======================================================================\n",
            "ERROR: test_case_3 (builtins.TestCases)\n",
            "----------------------------------------------------------------------\n",
            "Traceback (most recent call last):\n",
            "  File \"/usr/lib/python3.10/unittest/mock.py\", line 1379, in patched\n",
            "    return func(*newargs, **newkeywargs)\n",
            "  File \"<string>\", line 30, in test_case_3\n",
            "  File \"<string>\", line 29, in task_func\n",
            "FileNotFoundError: [Errno 2] No such file or directory: '/mock_dir/'\n",
            "\n",
            "======================================================================\n",
            "ERROR: test_case_4 (builtins.TestCases)\n",
            "----------------------------------------------------------------------\n",
            "Traceback (most recent call last):\n",
            "  File \"/usr/lib/python3.10/unittest/mock.py\", line 1379, in patched\n",
            "    return func(*newargs, **newkeywargs)\n",
            "  File \"<string>\", line 38, in test_case_4\n",
            "  File \"<string>\", line 29, in task_func\n",
            "FileNotFoundError: [Errno 2] No such file or directory: '/mock_dir/'\n",
            "\n",
            "======================================================================\n",
            "FAIL: test_case_5 (builtins.TestCases)\n",
            "----------------------------------------------------------------------\n",
            "Traceback (most recent call last):\n",
            "  File \"/usr/lib/python3.10/unittest/mock.py\", line 1379, in patched\n",
            "    return func(*newargs, **newkeywargs)\n",
            "  File \"<string>\", line 48, in test_case_5\n",
            "AssertionError: None != '/var/log/access.log.999'\n",
            "\n",
            "----------------------------------------------------------------------\n",
            "Ran 5 tests in 0.011s\n",
            "\n",
            "FAILED (failures=1, errors=4)\n",
            "Setting `pad_token_id` to `eos_token_id`:2 for open-end generation.\n"
          ]
        },
        {
          "output_type": "stream",
          "name": "stdout",
          "text": [
            "None\n",
            "8\n"
          ]
        },
        {
          "output_type": "stream",
          "name": "stderr",
          "text": [
            "EEEEEEE\n",
            "======================================================================\n",
            "ERROR: test_case_1 (builtins.TestCases)\n",
            "----------------------------------------------------------------------\n",
            "Traceback (most recent call last):\n",
            "  File \"<string>\", line 7, in setUp\n",
            "NameError: name 'os' is not defined\n",
            "\n",
            "======================================================================\n",
            "ERROR: test_case_2 (builtins.TestCases)\n",
            "----------------------------------------------------------------------\n",
            "Traceback (most recent call last):\n",
            "  File \"<string>\", line 7, in setUp\n",
            "NameError: name 'os' is not defined\n",
            "\n",
            "======================================================================\n",
            "ERROR: test_case_3 (builtins.TestCases)\n",
            "----------------------------------------------------------------------\n",
            "Traceback (most recent call last):\n",
            "  File \"<string>\", line 7, in setUp\n",
            "NameError: name 'os' is not defined\n",
            "\n",
            "======================================================================\n",
            "ERROR: test_case_4 (builtins.TestCases)\n",
            "----------------------------------------------------------------------\n",
            "Traceback (most recent call last):\n",
            "  File \"<string>\", line 7, in setUp\n",
            "NameError: name 'os' is not defined\n",
            "\n",
            "======================================================================\n",
            "ERROR: test_case_5 (builtins.TestCases)\n",
            "----------------------------------------------------------------------\n",
            "Traceback (most recent call last):\n",
            "  File \"<string>\", line 7, in setUp\n",
            "NameError: name 'os' is not defined\n",
            "\n",
            "======================================================================\n",
            "ERROR: test_case_6 (builtins.TestCases)\n",
            "----------------------------------------------------------------------\n",
            "Traceback (most recent call last):\n",
            "  File \"<string>\", line 7, in setUp\n",
            "NameError: name 'os' is not defined\n",
            "\n",
            "======================================================================\n",
            "ERROR: test_case_7 (builtins.TestCases)\n",
            "----------------------------------------------------------------------\n",
            "Traceback (most recent call last):\n",
            "  File \"<string>\", line 7, in setUp\n",
            "NameError: name 'os' is not defined\n",
            "\n",
            "----------------------------------------------------------------------\n",
            "Ran 7 tests in 0.008s\n",
            "\n",
            "FAILED (errors=7)\n",
            "Setting `pad_token_id` to `eos_token_id`:2 for open-end generation.\n"
          ]
        },
        {
          "output_type": "stream",
          "name": "stdout",
          "text": [
            "9\n"
          ]
        },
        {
          "output_type": "stream",
          "name": "stderr",
          "text": [
            "Setting `pad_token_id` to `eos_token_id`:2 for open-end generation.\n"
          ]
        },
        {
          "output_type": "stream",
          "name": "stdout",
          "text": [
            "10\n"
          ]
        },
        {
          "output_type": "stream",
          "name": "stderr",
          "text": [
            "Setting `pad_token_id` to `eos_token_id`:2 for open-end generation.\n"
          ]
        },
        {
          "output_type": "stream",
          "name": "stdout",
          "text": [
            "11\n"
          ]
        },
        {
          "output_type": "stream",
          "name": "stderr",
          "text": [
            "FFFFFE\n",
            "======================================================================\n",
            "ERROR: test_empty_input (builtins.TestCases)\n",
            "Tests behavior with an empty tuple input.\n",
            "----------------------------------------------------------------------\n",
            "Traceback (most recent call last):\n",
            "  File \"<string>\", line 51, in test_empty_input\n",
            "NameError: name 'statistics' is not defined\n",
            "\n",
            "======================================================================\n",
            "FAIL: test_case_1 (builtins.TestCases)\n",
            "Tests with small numbers and default range.\n",
            "----------------------------------------------------------------------\n",
            "Traceback (most recent call last):\n",
            "  File \"/usr/lib/python3.10/unittest/mock.py\", line 1379, in patched\n",
            "    return func(*newargs, **newkeywargs)\n",
            "  File \"<string>\", line 13, in test_case_1\n",
            "AssertionError: False is not true\n",
            "\n",
            "======================================================================\n",
            "FAIL: test_case_2 (builtins.TestCases)\n",
            "Tests with mid-range numbers and default range.\n",
            "----------------------------------------------------------------------\n",
            "Traceback (most recent call last):\n",
            "  File \"/usr/lib/python3.10/unittest/mock.py\", line 1379, in patched\n",
            "    return func(*newargs, **newkeywargs)\n",
            "  File \"<string>\", line 21, in test_case_2\n",
            "AssertionError: 54 != 50.0\n",
            "\n",
            "======================================================================\n",
            "FAIL: test_case_3 (builtins.TestCases)\n",
            "Tests with adjusted range to 50, checks new bounds.\n",
            "----------------------------------------------------------------------\n",
            "Traceback (most recent call last):\n",
            "  File \"/usr/lib/python3.10/unittest/mock.py\", line 1379, in patched\n",
            "    return func(*newargs, **newkeywargs)\n",
            "  File \"<string>\", line 29, in test_case_3\n",
            "AssertionError: 21 != 25.0\n",
            "\n",
            "======================================================================\n",
            "FAIL: test_case_4 (builtins.TestCases)\n",
            "Tests with minimal input of single-digit numbers.\n",
            "----------------------------------------------------------------------\n",
            "Traceback (most recent call last):\n",
            "  File \"/usr/lib/python3.10/unittest/mock.py\", line 1379, in patched\n",
            "    return func(*newargs, **newkeywargs)\n",
            "  File \"<string>\", line 37, in test_case_4\n",
            "AssertionError: 59 != 75.0\n",
            "\n",
            "======================================================================\n",
            "FAIL: test_case_5 (builtins.TestCases)\n",
            "Tests with larger numbers, focusing on correct type checking.\n",
            "----------------------------------------------------------------------\n",
            "Traceback (most recent call last):\n",
            "  File \"/usr/lib/python3.10/unittest/mock.py\", line 1379, in patched\n",
            "    return func(*newargs, **newkeywargs)\n",
            "  File \"<string>\", line 45, in test_case_5\n",
            "AssertionError: 48 != 10.0\n",
            "\n",
            "----------------------------------------------------------------------\n",
            "Ran 6 tests in 0.012s\n",
            "\n",
            "FAILED (failures=5, errors=1)\n",
            "Setting `pad_token_id` to `eos_token_id`:2 for open-end generation.\n"
          ]
        },
        {
          "output_type": "stream",
          "name": "stdout",
          "text": [
            "12\n"
          ]
        },
        {
          "output_type": "stream",
          "name": "stderr",
          "text": [
            "FFFFF\n",
            "======================================================================\n",
            "FAIL: test_case_1 (builtins.TestCases)\n",
            "Test with diverse values and the default range to ensure percentile calculation.\n",
            "----------------------------------------------------------------------\n",
            "Traceback (most recent call last):\n",
            "  File \"/usr/lib/python3.10/unittest/mock.py\", line 1379, in patched\n",
            "    return func(*newargs, **newkeywargs)\n",
            "  File \"<string>\", line 10, in test_case_1\n",
            "AssertionError: 7.75 != 50\n",
            "\n",
            "======================================================================\n",
            "FAIL: test_case_2 (builtins.TestCases)\n",
            "Check consistency when the total number of elements are small but repeated.\n",
            "----------------------------------------------------------------------\n",
            "Traceback (most recent call last):\n",
            "  File \"/usr/lib/python3.10/unittest/mock.py\", line 1379, in patched\n",
            "    return func(*newargs, **newkeywargs)\n",
            "  File \"<string>\", line 19, in test_case_2\n",
            "AssertionError: 10.0 != 30\n",
            "\n",
            "======================================================================\n",
            "FAIL: test_case_3 (builtins.TestCases)\n",
            "Ensure that percentile calculations are consistent for mixed low and medium values.\n",
            "----------------------------------------------------------------------\n",
            "Traceback (most recent call last):\n",
            "  File \"/usr/lib/python3.10/unittest/mock.py\", line 1379, in patched\n",
            "    return func(*newargs, **newkeywargs)\n",
            "  File \"<string>\", line 28, in test_case_3\n",
            "AssertionError: 3.5 != 75\n",
            "\n",
            "======================================================================\n",
            "FAIL: test_case_4 (builtins.TestCases)\n",
            "Tests percentile values for a simple large-value case.\n",
            "----------------------------------------------------------------------\n",
            "Traceback (most recent call last):\n",
            "  File \"/usr/lib/python3.10/unittest/mock.py\", line 1379, in patched\n",
            "    return func(*newargs, **newkeywargs)\n",
            "  File \"<string>\", line 37, in test_case_4\n",
            "AssertionError: 25.0 != 10\n",
            "\n",
            "======================================================================\n",
            "FAIL: test_case_5 (builtins.TestCases)\n",
            "Test with an extreme case where all random numbers are the same, ensuring no variability.\n",
            "----------------------------------------------------------------------\n",
            "Traceback (most recent call last):\n",
            "  File \"/usr/lib/python3.10/unittest/mock.py\", line 1379, in patched\n",
            "    return func(*newargs, **newkeywargs)\n",
            "  File \"<string>\", line 46, in test_case_5\n",
            "AssertionError: 1.0 != 90\n",
            "\n",
            "----------------------------------------------------------------------\n",
            "Ran 5 tests in 0.015s\n",
            "\n",
            "FAILED (failures=5)\n",
            "Setting `pad_token_id` to `eos_token_id`:2 for open-end generation.\n"
          ]
        },
        {
          "output_type": "stream",
          "name": "stdout",
          "text": [
            "13\n"
          ]
        },
        {
          "output_type": "stream",
          "name": "stderr",
          "text": [
            "Setting `pad_token_id` to `eos_token_id`:2 for open-end generation.\n"
          ]
        },
        {
          "output_type": "stream",
          "name": "stdout",
          "text": [
            "14\n"
          ]
        },
        {
          "output_type": "stream",
          "name": "stderr",
          "text": [
            "EEEEE\n",
            "======================================================================\n",
            "ERROR: test_case_1 (builtins.TestCases)\n",
            "Test with default parameters and successful download.\n",
            "----------------------------------------------------------------------\n",
            "Traceback (most recent call last):\n",
            "  File \"<string>\", line 7, in setUp\n",
            "NameError: name 'os' is not defined\n",
            "\n",
            "======================================================================\n",
            "ERROR: test_case_2 (builtins.TestCases)\n",
            "Test with an invalid FTP server by raising an exception on connect.\n",
            "----------------------------------------------------------------------\n",
            "Traceback (most recent call last):\n",
            "  File \"<string>\", line 7, in setUp\n",
            "NameError: name 'os' is not defined\n",
            "\n",
            "======================================================================\n",
            "ERROR: test_case_3 (builtins.TestCases)\n",
            "Test with an invalid FTP user by raising an exception on login.\n",
            "----------------------------------------------------------------------\n",
            "Traceback (most recent call last):\n",
            "  File \"<string>\", line 7, in setUp\n",
            "NameError: name 'os' is not defined\n",
            "\n",
            "======================================================================\n",
            "ERROR: test_case_4 (builtins.TestCases)\n",
            "Test with an invalid FTP password by raising an exception on login.\n",
            "----------------------------------------------------------------------\n",
            "Traceback (most recent call last):\n",
            "  File \"<string>\", line 7, in setUp\n",
            "NameError: name 'os' is not defined\n",
            "\n",
            "======================================================================\n",
            "ERROR: test_case_5 (builtins.TestCases)\n",
            "Test with an invalid FTP directory by raising an exception on cwd.\n",
            "----------------------------------------------------------------------\n",
            "Traceback (most recent call last):\n",
            "  File \"<string>\", line 7, in setUp\n",
            "NameError: name 'os' is not defined\n",
            "\n",
            "----------------------------------------------------------------------\n",
            "Ran 5 tests in 0.007s\n",
            "\n",
            "FAILED (errors=5)\n",
            "Setting `pad_token_id` to `eos_token_id`:2 for open-end generation.\n"
          ]
        },
        {
          "output_type": "stream",
          "name": "stdout",
          "text": [
            "15\n"
          ]
        },
        {
          "output_type": "stream",
          "name": "stderr",
          "text": [
            "EEEE\n",
            "======================================================================\n",
            "ERROR: test_archive_content (builtins.TestCases)\n",
            "----------------------------------------------------------------------\n",
            "Traceback (most recent call last):\n",
            "  File \"<string>\", line 9, in setUp\n",
            "NameError: name 'tempfile' is not defined\n",
            "\n",
            "======================================================================\n",
            "ERROR: test_archive_creation (builtins.TestCases)\n",
            "----------------------------------------------------------------------\n",
            "Traceback (most recent call last):\n",
            "  File \"<string>\", line 9, in setUp\n",
            "NameError: name 'tempfile' is not defined\n",
            "\n",
            "======================================================================\n",
            "ERROR: test_invalid_project_directory (builtins.TestCases)\n",
            "----------------------------------------------------------------------\n",
            "Traceback (most recent call last):\n",
            "  File \"<string>\", line 9, in setUp\n",
            "NameError: name 'tempfile' is not defined\n",
            "\n",
            "======================================================================\n",
            "ERROR: test_valid_project_directory (builtins.TestCases)\n",
            "----------------------------------------------------------------------\n",
            "Traceback (most recent call last):\n",
            "  File \"<string>\", line 9, in setUp\n",
            "NameError: name 'tempfile' is not defined\n",
            "\n",
            "----------------------------------------------------------------------\n",
            "Ran 4 tests in 0.004s\n",
            "\n",
            "FAILED (errors=4)\n",
            "Setting `pad_token_id` to `eos_token_id`:2 for open-end generation.\n"
          ]
        },
        {
          "output_type": "stream",
          "name": "stdout",
          "text": [
            "16\n"
          ]
        },
        {
          "output_type": "stream",
          "name": "stderr",
          "text": [
            "Setting `pad_token_id` to `eos_token_id`:2 for open-end generation.\n"
          ]
        },
        {
          "output_type": "stream",
          "name": "stdout",
          "text": [
            "17\n"
          ]
        },
        {
          "output_type": "stream",
          "name": "stderr",
          "text": [
            "EEEE\n",
            "======================================================================\n",
            "ERROR: test_backup_creation_and_log_file_deletion (builtins.TestCases)\n",
            "----------------------------------------------------------------------\n",
            "Traceback (most recent call last):\n",
            "  File \"<string>\", line 9, in setUp\n",
            "NameError: name 'tempfile' is not defined\n",
            "\n",
            "======================================================================\n",
            "ERROR: test_handle_non_existing_directory (builtins.TestCases)\n",
            "----------------------------------------------------------------------\n",
            "Traceback (most recent call last):\n",
            "  File \"<string>\", line 9, in setUp\n",
            "NameError: name 'tempfile' is not defined\n",
            "\n",
            "======================================================================\n",
            "ERROR: test_no_log_files_to_backup (builtins.TestCases)\n",
            "----------------------------------------------------------------------\n",
            "Traceback (most recent call last):\n",
            "  File \"<string>\", line 9, in setUp\n",
            "NameError: name 'tempfile' is not defined\n",
            "\n",
            "======================================================================\n",
            "ERROR: test_non_log_files_remain (builtins.TestCases)\n",
            "----------------------------------------------------------------------\n",
            "Traceback (most recent call last):\n",
            "  File \"<string>\", line 9, in setUp\n",
            "NameError: name 'tempfile' is not defined\n",
            "\n",
            "----------------------------------------------------------------------\n",
            "Ran 4 tests in 0.004s\n",
            "\n",
            "FAILED (errors=4)\n",
            "Setting `pad_token_id` to `eos_token_id`:2 for open-end generation.\n"
          ]
        },
        {
          "output_type": "stream",
          "name": "stdout",
          "text": [
            "18\n"
          ]
        },
        {
          "output_type": "stream",
          "name": "stderr",
          "text": [
            "Setting `pad_token_id` to `eos_token_id`:2 for open-end generation.\n"
          ]
        },
        {
          "output_type": "stream",
          "name": "stdout",
          "text": [
            "19\n"
          ]
        },
        {
          "output_type": "stream",
          "name": "stderr",
          "text": [
            "EEEEE\n",
            "======================================================================\n",
            "ERROR: test_invalid_file (builtins.TestCases)\n",
            "Test behavior with a non-existent file path.\n",
            "----------------------------------------------------------------------\n",
            "Traceback (most recent call last):\n",
            "  File \"<string>\", line 8, in setUp\n",
            "NameError: name 'tempfile' is not defined\n",
            "\n",
            "======================================================================\n",
            "ERROR: test_large_csv (builtins.TestCases)\n",
            "Test splitting and shuffling a large CSV file.\n",
            "----------------------------------------------------------------------\n",
            "Traceback (most recent call last):\n",
            "  File \"<string>\", line 8, in setUp\n",
            "NameError: name 'tempfile' is not defined\n",
            "\n",
            "======================================================================\n",
            "ERROR: test_medium_csv (builtins.TestCases)\n",
            "Test splitting and shuffling a medium CSV file.\n",
            "----------------------------------------------------------------------\n",
            "Traceback (most recent call last):\n",
            "  File \"<string>\", line 8, in setUp\n",
            "NameError: name 'tempfile' is not defined\n",
            "\n",
            "======================================================================\n",
            "ERROR: test_non_csv_file (builtins.TestCases)\n",
            "Test behavior with a non-CSV file.\n",
            "----------------------------------------------------------------------\n",
            "Traceback (most recent call last):\n",
            "  File \"<string>\", line 8, in setUp\n",
            "NameError: name 'tempfile' is not defined\n",
            "\n",
            "======================================================================\n",
            "ERROR: test_small_csv (builtins.TestCases)\n",
            "Test splitting and shuffling a small CSV file.\n",
            "----------------------------------------------------------------------\n",
            "Traceback (most recent call last):\n",
            "  File \"<string>\", line 8, in setUp\n",
            "NameError: name 'tempfile' is not defined\n",
            "\n",
            "----------------------------------------------------------------------\n",
            "Ran 5 tests in 0.005s\n",
            "\n",
            "FAILED (errors=5)\n",
            "Setting `pad_token_id` to `eos_token_id`:2 for open-end generation.\n"
          ]
        },
        {
          "output_type": "stream",
          "name": "stdout",
          "text": [
            "20\n"
          ]
        },
        {
          "output_type": "stream",
          "name": "stderr",
          "text": [
            "Setting `pad_token_id` to `eos_token_id`:2 for open-end generation.\n"
          ]
        },
        {
          "output_type": "stream",
          "name": "stdout",
          "text": [
            "21\n"
          ]
        },
        {
          "output_type": "stream",
          "name": "stderr",
          "text": [
            "EEEEE\n",
            "======================================================================\n",
            "ERROR: test_case_1 (builtins.TestCases)\n",
            "----------------------------------------------------------------------\n",
            "Traceback (most recent call last):\n",
            "  File \"<string>\", line 8, in setUp\n",
            "NameError: name 'os' is not defined\n",
            "\n",
            "======================================================================\n",
            "ERROR: test_case_2 (builtins.TestCases)\n",
            "----------------------------------------------------------------------\n",
            "Traceback (most recent call last):\n",
            "  File \"<string>\", line 8, in setUp\n",
            "NameError: name 'os' is not defined\n",
            "\n",
            "======================================================================\n",
            "ERROR: test_case_3 (builtins.TestCases)\n",
            "----------------------------------------------------------------------\n",
            "Traceback (most recent call last):\n",
            "  File \"<string>\", line 8, in setUp\n",
            "NameError: name 'os' is not defined\n",
            "\n",
            "======================================================================\n",
            "ERROR: test_case_4 (builtins.TestCases)\n",
            "----------------------------------------------------------------------\n",
            "Traceback (most recent call last):\n",
            "  File \"<string>\", line 8, in setUp\n",
            "NameError: name 'os' is not defined\n",
            "\n",
            "======================================================================\n",
            "ERROR: test_case_5 (builtins.TestCases)\n",
            "----------------------------------------------------------------------\n",
            "Traceback (most recent call last):\n",
            "  File \"<string>\", line 8, in setUp\n",
            "NameError: name 'os' is not defined\n",
            "\n",
            "----------------------------------------------------------------------\n",
            "Ran 5 tests in 0.005s\n",
            "\n",
            "FAILED (errors=5)\n",
            "Setting `pad_token_id` to `eos_token_id`:2 for open-end generation.\n"
          ]
        },
        {
          "output_type": "stream",
          "name": "stdout",
          "text": [
            "22\n"
          ]
        },
        {
          "output_type": "stream",
          "name": "stderr",
          "text": [
            "F.....\n",
            "======================================================================\n",
            "FAIL: test_memory_usage_format (builtins.TestCases)\n",
            "Test that the 'Memory Usage' key is correctly formatted as a percentage.\n",
            "----------------------------------------------------------------------\n",
            "Traceback (most recent call last):\n",
            "  File \"<string>\", line 23, in test_memory_usage_format\n",
            "AssertionError: Regex didn't match: '\\\\d{1,3}\\\\.\\\\d{2}%' not found in '7%'\n",
            "\n",
            "----------------------------------------------------------------------\n",
            "Ran 6 tests in 0.041s\n",
            "\n",
            "FAILED (failures=1)\n",
            "Setting `pad_token_id` to `eos_token_id`:2 for open-end generation.\n"
          ]
        },
        {
          "output_type": "stream",
          "name": "stdout",
          "text": [
            "23\n"
          ]
        },
        {
          "output_type": "stream",
          "name": "stderr",
          "text": [
            "Setting `pad_token_id` to `eos_token_id`:2 for open-end generation.\n"
          ]
        },
        {
          "output_type": "stream",
          "name": "stdout",
          "text": [
            "24\n"
          ]
        },
        {
          "output_type": "stream",
          "name": "stderr",
          "text": [
            "Setting `pad_token_id` to `eos_token_id`:2 for open-end generation.\n"
          ]
        },
        {
          "output_type": "stream",
          "name": "stdout",
          "text": [
            "25\n"
          ]
        },
        {
          "output_type": "stream",
          "name": "stderr",
          "text": [
            "EEEEE.\n",
            "======================================================================\n",
            "ERROR: test_case_1 (builtins.TestCases)\n",
            "Testing with a simple password\n",
            "----------------------------------------------------------------------\n",
            "Traceback (most recent call last):\n",
            "  File \"<string>\", line 16, in test_case_1\n",
            "  File \"<string>\", line 8, in decode_and_regenerate_password\n",
            "NameError: name 'base64' is not defined\n",
            "\n",
            "======================================================================\n",
            "ERROR: test_case_2 (builtins.TestCases)\n",
            "Testing with a password containing special characters\n",
            "----------------------------------------------------------------------\n",
            "Traceback (most recent call last):\n",
            "  File \"<string>\", line 22, in test_case_2\n",
            "  File \"<string>\", line 8, in decode_and_regenerate_password\n",
            "NameError: name 'base64' is not defined\n",
            "\n",
            "======================================================================\n",
            "ERROR: test_case_3 (builtins.TestCases)\n",
            "Testing with a long password\n",
            "----------------------------------------------------------------------\n",
            "Traceback (most recent call last):\n",
            "  File \"<string>\", line 29, in test_case_3\n",
            "  File \"<string>\", line 8, in decode_and_regenerate_password\n",
            "NameError: name 'base64' is not defined\n",
            "\n",
            "======================================================================\n",
            "ERROR: test_case_4 (builtins.TestCases)\n",
            "Testing with a short password\n",
            "----------------------------------------------------------------------\n",
            "Traceback (most recent call last):\n",
            "  File \"<string>\", line 36, in test_case_4\n",
            "  File \"<string>\", line 8, in decode_and_regenerate_password\n",
            "NameError: name 'base64' is not defined\n",
            "\n",
            "======================================================================\n",
            "ERROR: test_case_5 (builtins.TestCases)\n",
            "Testing with a password that is a number\n",
            "----------------------------------------------------------------------\n",
            "Traceback (most recent call last):\n",
            "  File \"<string>\", line 43, in test_case_5\n",
            "  File \"<string>\", line 8, in decode_and_regenerate_password\n",
            "NameError: name 'base64' is not defined\n",
            "\n",
            "----------------------------------------------------------------------\n",
            "Ran 6 tests in 0.348s\n",
            "\n",
            "FAILED (errors=5)\n",
            "Setting `pad_token_id` to `eos_token_id`:2 for open-end generation.\n"
          ]
        },
        {
          "output_type": "stream",
          "name": "stdout",
          "text": [
            "26\n"
          ]
        },
        {
          "output_type": "stream",
          "name": "stderr",
          "text": [
            "EEEEE\n",
            "======================================================================\n",
            "ERROR: test_case_1 (builtins.TestCases)\n",
            "----------------------------------------------------------------------\n",
            "Traceback (most recent call last):\n",
            "  File \"<string>\", line 11, in test_case_1\n",
            "NameError: name 'json' is not defined\n",
            "\n",
            "======================================================================\n",
            "ERROR: test_case_2 (builtins.TestCases)\n",
            "----------------------------------------------------------------------\n",
            "Traceback (most recent call last):\n",
            "  File \"<string>\", line 18, in test_case_2\n",
            "NameError: name 'json' is not defined\n",
            "\n",
            "======================================================================\n",
            "ERROR: test_case_3 (builtins.TestCases)\n",
            "----------------------------------------------------------------------\n",
            "Traceback (most recent call last):\n",
            "  File \"<string>\", line 25, in test_case_3\n",
            "NameError: name 'json' is not defined\n",
            "\n",
            "======================================================================\n",
            "ERROR: test_case_4 (builtins.TestCases)\n",
            "----------------------------------------------------------------------\n",
            "Traceback (most recent call last):\n",
            "  File \"<string>\", line 32, in test_case_4\n",
            "NameError: name 'json' is not defined\n",
            "\n",
            "======================================================================\n",
            "ERROR: test_case_5 (builtins.TestCases)\n",
            "----------------------------------------------------------------------\n",
            "Traceback (most recent call last):\n",
            "  File \"<string>\", line 39, in test_case_5\n",
            "NameError: name 'json' is not defined\n",
            "\n",
            "----------------------------------------------------------------------\n",
            "Ran 5 tests in 0.006s\n",
            "\n",
            "FAILED (errors=5)\n",
            "Setting `pad_token_id` to `eos_token_id`:2 for open-end generation.\n"
          ]
        },
        {
          "output_type": "stream",
          "name": "stdout",
          "text": [
            "27\n"
          ]
        },
        {
          "output_type": "stream",
          "name": "stderr",
          "text": [
            "EEEE..\n",
            "======================================================================\n",
            "ERROR: test_case_1 (builtins.TestCases)\n",
            "----------------------------------------------------------------------\n",
            "Traceback (most recent call last):\n",
            "  File \"<string>\", line 7, in test_case_1\n",
            "  File \"<string>\", line 39, in task_func\n",
            "  File \"/usr/local/lib/python3.10/dist-packages/cryptography/fernet.py\", line 40, in __init__\n",
            "    raise ValueError(\n",
            "ValueError: Fernet key must be 32 url-safe base64-encoded bytes.\n",
            "\n",
            "======================================================================\n",
            "ERROR: test_case_2 (builtins.TestCases)\n",
            "----------------------------------------------------------------------\n",
            "Traceback (most recent call last):\n",
            "  File \"<string>\", line 12, in test_case_2\n",
            "  File \"<string>\", line 39, in task_func\n",
            "  File \"/usr/local/lib/python3.10/dist-packages/cryptography/fernet.py\", line 40, in __init__\n",
            "    raise ValueError(\n",
            "ValueError: Fernet key must be 32 url-safe base64-encoded bytes.\n",
            "\n",
            "======================================================================\n",
            "ERROR: test_case_3 (builtins.TestCases)\n",
            "----------------------------------------------------------------------\n",
            "Traceback (most recent call last):\n",
            "  File \"<string>\", line 17, in test_case_3\n",
            "  File \"<string>\", line 39, in task_func\n",
            "  File \"/usr/local/lib/python3.10/dist-packages/cryptography/fernet.py\", line 40, in __init__\n",
            "    raise ValueError(\n",
            "ValueError: Fernet key must be 32 url-safe base64-encoded bytes.\n",
            "\n",
            "======================================================================\n",
            "ERROR: test_case_4 (builtins.TestCases)\n",
            "----------------------------------------------------------------------\n",
            "Traceback (most recent call last):\n",
            "  File \"<string>\", line 23, in test_case_4\n",
            "  File \"<string>\", line 39, in task_func\n",
            "  File \"/usr/local/lib/python3.10/dist-packages/cryptography/fernet.py\", line 40, in __init__\n",
            "    raise ValueError(\n",
            "ValueError: Fernet key must be 32 url-safe base64-encoded bytes.\n",
            "\n",
            "----------------------------------------------------------------------\n",
            "Ran 6 tests in 0.008s\n",
            "\n",
            "FAILED (errors=4)\n",
            "Setting `pad_token_id` to `eos_token_id`:2 for open-end generation.\n"
          ]
        },
        {
          "output_type": "stream",
          "name": "stdout",
          "text": [
            "28\n"
          ]
        },
        {
          "output_type": "stream",
          "name": "stderr",
          "text": [
            "EEEEE\n",
            "======================================================================\n",
            "ERROR: test_task_func_basic (builtins.TestCases)\n",
            "Test the task_func function with a basic dictionary.\n",
            "----------------------------------------------------------------------\n",
            "Traceback (most recent call last):\n",
            "  File \"<string>\", line 11, in test_task_func_basic\n",
            "NameError: name 'json' is not defined\n",
            "\n",
            "======================================================================\n",
            "ERROR: test_task_func_empty (builtins.TestCases)\n",
            "Test the task_func function with an empty dictionary.\n",
            "----------------------------------------------------------------------\n",
            "Traceback (most recent call last):\n",
            "  File \"<string>\", line 22, in test_task_func_empty\n",
            "NameError: name 'json' is not defined\n",
            "\n",
            "======================================================================\n",
            "ERROR: test_task_func_mixed (builtins.TestCases)\n",
            "Test the task_func function with a dictionary containing mixed types of keys and values.\n",
            "----------------------------------------------------------------------\n",
            "Traceback (most recent call last):\n",
            "  File \"<string>\", line 52, in test_task_func_mixed\n",
            "NameError: name 'json' is not defined\n",
            "\n",
            "======================================================================\n",
            "ERROR: test_task_func_nested (builtins.TestCases)\n",
            "Test the task_func function with a nested dictionary.\n",
            "----------------------------------------------------------------------\n",
            "Traceback (most recent call last):\n",
            "  File \"<string>\", line 31, in test_task_func_nested\n",
            "NameError: name 'json' is not defined\n",
            "\n",
            "======================================================================\n",
            "ERROR: test_task_func_numeric (builtins.TestCases)\n",
            "Test the task_func function with a dictionary containing numeric keys.\n",
            "----------------------------------------------------------------------\n",
            "Traceback (most recent call last):\n",
            "  File \"<string>\", line 41, in test_task_func_numeric\n",
            "NameError: name 'json' is not defined\n",
            "\n",
            "----------------------------------------------------------------------\n",
            "Ran 5 tests in 0.006s\n",
            "\n",
            "FAILED (errors=5)\n",
            "Setting `pad_token_id` to `eos_token_id`:2 for open-end generation.\n"
          ]
        },
        {
          "output_type": "stream",
          "name": "stdout",
          "text": [
            "29\n"
          ]
        },
        {
          "output_type": "stream",
          "name": "stderr",
          "text": [
            "Setting `pad_token_id` to `eos_token_id`:2 for open-end generation.\n"
          ]
        },
        {
          "output_type": "stream",
          "name": "stdout",
          "text": [
            "30\n"
          ]
        },
        {
          "output_type": "stream",
          "name": "stderr",
          "text": [
            "EEE\n",
            "======================================================================\n",
            "ERROR: test_output_is_string_and_valid_base64 (builtins.TestCases)\n",
            "----------------------------------------------------------------------\n",
            "Traceback (most recent call last):\n",
            "  File \"<string>\", line 9, in test_output_is_string_and_valid_base64\n",
            "NameError: name 'np' is not defined\n",
            "\n",
            "======================================================================\n",
            "ERROR: test_varied_data_sets (builtins.TestCases)\n",
            "----------------------------------------------------------------------\n",
            "Traceback (most recent call last):\n",
            "  File \"<string>\", line 28, in test_varied_data_sets\n",
            "NameError: name 'np' is not defined\n",
            "\n",
            "======================================================================\n",
            "ERROR: test_with_mocked_scaler (builtins.TestCases)\n",
            "----------------------------------------------------------------------\n",
            "Traceback (most recent call last):\n",
            "  File \"<string>\", line 19, in test_with_mocked_scaler\n",
            "NameError: name 'np' is not defined\n",
            "\n",
            "----------------------------------------------------------------------\n",
            "Ran 3 tests in 0.003s\n",
            "\n",
            "FAILED (errors=3)\n",
            "Setting `pad_token_id` to `eos_token_id`:2 for open-end generation.\n"
          ]
        },
        {
          "output_type": "stream",
          "name": "stdout",
          "text": [
            "31\n"
          ]
        },
        {
          "output_type": "stream",
          "name": "stderr",
          "text": [
            "EEEEE\n",
            "======================================================================\n",
            "ERROR: test_case_invalid_email_format (builtins.TestCases)\n",
            "----------------------------------------------------------------------\n",
            "Traceback (most recent call last):\n",
            "  File \"<string>\", line 21, in setUp\n",
            "NameError: name 'json' is not defined\n",
            "\n",
            "======================================================================\n",
            "ERROR: test_case_missing_attribute (builtins.TestCases)\n",
            "----------------------------------------------------------------------\n",
            "Traceback (most recent call last):\n",
            "  File \"<string>\", line 21, in setUp\n",
            "NameError: name 'json' is not defined\n",
            "\n",
            "======================================================================\n",
            "ERROR: test_case_non_existent_file (builtins.TestCases)\n",
            "----------------------------------------------------------------------\n",
            "Traceback (most recent call last):\n",
            "  File \"<string>\", line 21, in setUp\n",
            "NameError: name 'json' is not defined\n",
            "\n",
            "======================================================================\n",
            "ERROR: test_case_retrieve_age (builtins.TestCases)\n",
            "----------------------------------------------------------------------\n",
            "Traceback (most recent call last):\n",
            "  File \"<string>\", line 21, in setUp\n",
            "NameError: name 'json' is not defined\n",
            "\n",
            "======================================================================\n",
            "ERROR: test_case_valid_json (builtins.TestCases)\n",
            "----------------------------------------------------------------------\n",
            "Traceback (most recent call last):\n",
            "  File \"<string>\", line 21, in setUp\n",
            "NameError: name 'json' is not defined\n",
            "\n",
            "----------------------------------------------------------------------\n",
            "Ran 5 tests in 0.007s\n",
            "\n",
            "FAILED (errors=5)\n",
            "Setting `pad_token_id` to `eos_token_id`:2 for open-end generation.\n"
          ]
        },
        {
          "output_type": "stream",
          "name": "stdout",
          "text": [
            "32\n"
          ]
        },
        {
          "output_type": "stream",
          "name": "stderr",
          "text": [
            "Setting `pad_token_id` to `eos_token_id`:2 for open-end generation.\n"
          ]
        },
        {
          "output_type": "stream",
          "name": "stdout",
          "text": [
            "33\n"
          ]
        },
        {
          "output_type": "stream",
          "name": "stderr",
          "text": [
            "EEEEEEE\n",
            "======================================================================\n",
            "ERROR: test_empty_tag (builtins.TestCases)\n",
            "Test the function with an empty tag content.\n",
            "----------------------------------------------------------------------\n",
            "Traceback (most recent call last):\n",
            "  File \"/usr/lib/python3.10/unittest/mock.py\", line 1379, in patched\n",
            "    return func(*newargs, **newkeywargs)\n",
            "  File \"<string>\", line 62, in test_empty_tag\n",
            "NameError: name 'Mock' is not defined\n",
            "\n",
            "======================================================================\n",
            "ERROR: test_h1_tag_found (builtins.TestCases)\n",
            "Test retrieving the h1 tag.\n",
            "----------------------------------------------------------------------\n",
            "Traceback (most recent call last):\n",
            "  File \"/usr/lib/python3.10/unittest/mock.py\", line 1379, in patched\n",
            "    return func(*newargs, **newkeywargs)\n",
            "  File \"<string>\", line 20, in test_h1_tag_found\n",
            "NameError: name 'Mock' is not defined\n",
            "\n",
            "======================================================================\n",
            "ERROR: test_invalid_url_handling (builtins.TestCases)\n",
            "Test how the function handles an invalid URL.\n",
            "----------------------------------------------------------------------\n",
            "Traceback (most recent call last):\n",
            "  File \"<string>\", line 36, in test_invalid_url_handling\n",
            "NameError: name 'requests' is not defined\n",
            "\n",
            "======================================================================\n",
            "ERROR: test_malformed_html (builtins.TestCases)\n",
            "Test the function with a malformed HTML input.\n",
            "----------------------------------------------------------------------\n",
            "Traceback (most recent call last):\n",
            "  File \"/usr/lib/python3.10/unittest/mock.py\", line 1379, in patched\n",
            "    return func(*newargs, **newkeywargs)\n",
            "  File \"<string>\", line 42, in test_malformed_html\n",
            "NameError: name 'Mock' is not defined\n",
            "\n",
            "======================================================================\n",
            "ERROR: test_multiple_matching_tags (builtins.TestCases)\n",
            "Test the function with multiple tags of the same type.\n",
            "----------------------------------------------------------------------\n",
            "Traceback (most recent call last):\n",
            "  File \"/usr/lib/python3.10/unittest/mock.py\", line 1379, in patched\n",
            "    return func(*newargs, **newkeywargs)\n",
            "  File \"<string>\", line 53, in test_multiple_matching_tags\n",
            "NameError: name 'Mock' is not defined\n",
            "\n",
            "======================================================================\n",
            "ERROR: test_nonexistent_tag (builtins.TestCases)\n",
            "Test for a tag that doesn't exist.\n",
            "----------------------------------------------------------------------\n",
            "Traceback (most recent call last):\n",
            "  File \"/usr/lib/python3.10/unittest/mock.py\", line 1379, in patched\n",
            "    return func(*newargs, **newkeywargs)\n",
            "  File \"<string>\", line 29, in test_nonexistent_tag\n",
            "NameError: name 'Mock' is not defined\n",
            "\n",
            "======================================================================\n",
            "ERROR: test_title_tag_found (builtins.TestCases)\n",
            "Test retrieving the title tag.\n",
            "----------------------------------------------------------------------\n",
            "Traceback (most recent call last):\n",
            "  File \"/usr/lib/python3.10/unittest/mock.py\", line 1379, in patched\n",
            "    return func(*newargs, **newkeywargs)\n",
            "  File \"<string>\", line 11, in test_title_tag_found\n",
            "NameError: name 'Mock' is not defined\n",
            "\n",
            "----------------------------------------------------------------------\n",
            "Ran 7 tests in 0.010s\n",
            "\n",
            "FAILED (errors=7)\n",
            "Setting `pad_token_id` to `eos_token_id`:2 for open-end generation.\n"
          ]
        },
        {
          "output_type": "stream",
          "name": "stdout",
          "text": [
            "34\n"
          ]
        },
        {
          "output_type": "stream",
          "name": "stderr",
          "text": [
            "Setting `pad_token_id` to `eos_token_id`:2 for open-end generation.\n"
          ]
        },
        {
          "output_type": "stream",
          "name": "stdout",
          "text": [
            "35\n"
          ]
        },
        {
          "output_type": "stream",
          "name": "stderr",
          "text": [
            "EEE.E\n",
            "======================================================================\n",
            "ERROR: test_case_1 (builtins.TestCases)\n",
            "----------------------------------------------------------------------\n",
            "Traceback (most recent call last):\n",
            "  File \"<string>\", line 8, in test_case_1\n",
            "  File \"<string>\", line 39, in task_func\n",
            "  File \"/usr/local/lib/python3.10/dist-packages/matplotlib/pyplot.py\", line 1023, in savefig\n",
            "    res = fig.savefig(*args, **kwargs)\n",
            "  File \"/usr/local/lib/python3.10/dist-packages/matplotlib/figure.py\", line 3343, in savefig\n",
            "    self.canvas.print_figure(fname, **kwargs)\n",
            "  File \"/usr/local/lib/python3.10/dist-packages/matplotlib/backend_bases.py\", line 2366, in print_figure\n",
            "    result = print_method(\n",
            "  File \"/usr/local/lib/python3.10/dist-packages/matplotlib/backend_bases.py\", line 2232, in <lambda>\n",
            "    print_method = functools.wraps(meth)(lambda *args, **kwargs: meth(\n",
            "  File \"/usr/local/lib/python3.10/dist-packages/matplotlib/backends/backend_agg.py\", line 509, in print_png\n",
            "    self._print_pil(filename_or_obj, \"png\", pil_kwargs, metadata)\n",
            "  File \"/usr/local/lib/python3.10/dist-packages/matplotlib/backends/backend_agg.py\", line 458, in _print_pil\n",
            "    mpl.image.imsave(\n",
            "  File \"/usr/local/lib/python3.10/dist-packages/matplotlib/image.py\", line 1689, in imsave\n",
            "    image.save(fname, **pil_kwargs)\n",
            "  File \"/usr/local/lib/python3.10/dist-packages/PIL/Image.py\", line 2563, in save\n",
            "    fp = builtins.open(filename, \"w+b\")\n",
            "FileNotFoundError: [Errno 2] No such file or directory: '/results/wordcloud.png'\n",
            "\n",
            "======================================================================\n",
            "ERROR: test_case_2 (builtins.TestCases)\n",
            "----------------------------------------------------------------------\n",
            "Traceback (most recent call last):\n",
            "  File \"<string>\", line 13, in test_case_2\n",
            "  File \"<string>\", line 39, in task_func\n",
            "  File \"/usr/local/lib/python3.10/dist-packages/matplotlib/pyplot.py\", line 1023, in savefig\n",
            "    res = fig.savefig(*args, **kwargs)\n",
            "  File \"/usr/local/lib/python3.10/dist-packages/matplotlib/figure.py\", line 3343, in savefig\n",
            "    self.canvas.print_figure(fname, **kwargs)\n",
            "  File \"/usr/local/lib/python3.10/dist-packages/matplotlib/backend_bases.py\", line 2366, in print_figure\n",
            "    result = print_method(\n",
            "  File \"/usr/local/lib/python3.10/dist-packages/matplotlib/backend_bases.py\", line 2232, in <lambda>\n",
            "    print_method = functools.wraps(meth)(lambda *args, **kwargs: meth(\n",
            "  File \"/usr/local/lib/python3.10/dist-packages/matplotlib/backends/backend_agg.py\", line 509, in print_png\n",
            "    self._print_pil(filename_or_obj, \"png\", pil_kwargs, metadata)\n",
            "  File \"/usr/local/lib/python3.10/dist-packages/matplotlib/backends/backend_agg.py\", line 458, in _print_pil\n",
            "    mpl.image.imsave(\n",
            "  File \"/usr/local/lib/python3.10/dist-packages/matplotlib/image.py\", line 1689, in imsave\n",
            "    image.save(fname, **pil_kwargs)\n",
            "  File \"/usr/local/lib/python3.10/dist-packages/PIL/Image.py\", line 2563, in save\n",
            "    fp = builtins.open(filename, \"w+b\")\n",
            "FileNotFoundError: [Errno 2] No such file or directory: '/results/wordcloud.png'\n",
            "\n",
            "======================================================================\n",
            "ERROR: test_case_3 (builtins.TestCases)\n",
            "----------------------------------------------------------------------\n",
            "Traceback (most recent call last):\n",
            "  File \"<string>\", line 18, in test_case_3\n",
            "  File \"<string>\", line 39, in task_func\n",
            "  File \"/usr/local/lib/python3.10/dist-packages/matplotlib/pyplot.py\", line 1023, in savefig\n",
            "    res = fig.savefig(*args, **kwargs)\n",
            "  File \"/usr/local/lib/python3.10/dist-packages/matplotlib/figure.py\", line 3343, in savefig\n",
            "    self.canvas.print_figure(fname, **kwargs)\n",
            "  File \"/usr/local/lib/python3.10/dist-packages/matplotlib/backend_bases.py\", line 2366, in print_figure\n",
            "    result = print_method(\n",
            "  File \"/usr/local/lib/python3.10/dist-packages/matplotlib/backend_bases.py\", line 2232, in <lambda>\n",
            "    print_method = functools.wraps(meth)(lambda *args, **kwargs: meth(\n",
            "  File \"/usr/local/lib/python3.10/dist-packages/matplotlib/backends/backend_agg.py\", line 509, in print_png\n",
            "    self._print_pil(filename_or_obj, \"png\", pil_kwargs, metadata)\n",
            "  File \"/usr/local/lib/python3.10/dist-packages/matplotlib/backends/backend_agg.py\", line 458, in _print_pil\n",
            "    mpl.image.imsave(\n",
            "  File \"/usr/local/lib/python3.10/dist-packages/matplotlib/image.py\", line 1689, in imsave\n",
            "    image.save(fname, **pil_kwargs)\n",
            "  File \"/usr/local/lib/python3.10/dist-packages/PIL/Image.py\", line 2563, in save\n",
            "    fp = builtins.open(filename, \"w+b\")\n",
            "FileNotFoundError: [Errno 2] No such file or directory: '/results/wordcloud.png'\n",
            "\n",
            "======================================================================\n",
            "ERROR: test_case_5 (builtins.TestCases)\n",
            "----------------------------------------------------------------------\n",
            "Traceback (most recent call last):\n",
            "  File \"<string>\", line 30, in test_case_5\n",
            "  File \"<string>\", line 39, in task_func\n",
            "  File \"/usr/local/lib/python3.10/dist-packages/matplotlib/pyplot.py\", line 1023, in savefig\n",
            "    res = fig.savefig(*args, **kwargs)\n",
            "  File \"/usr/local/lib/python3.10/dist-packages/matplotlib/figure.py\", line 3343, in savefig\n",
            "    self.canvas.print_figure(fname, **kwargs)\n",
            "  File \"/usr/local/lib/python3.10/dist-packages/matplotlib/backend_bases.py\", line 2366, in print_figure\n",
            "    result = print_method(\n",
            "  File \"/usr/local/lib/python3.10/dist-packages/matplotlib/backend_bases.py\", line 2232, in <lambda>\n",
            "    print_method = functools.wraps(meth)(lambda *args, **kwargs: meth(\n",
            "  File \"/usr/local/lib/python3.10/dist-packages/matplotlib/backends/backend_agg.py\", line 509, in print_png\n",
            "    self._print_pil(filename_or_obj, \"png\", pil_kwargs, metadata)\n",
            "  File \"/usr/local/lib/python3.10/dist-packages/matplotlib/backends/backend_agg.py\", line 458, in _print_pil\n",
            "    mpl.image.imsave(\n",
            "  File \"/usr/local/lib/python3.10/dist-packages/matplotlib/image.py\", line 1689, in imsave\n",
            "    image.save(fname, **pil_kwargs)\n",
            "  File \"/usr/local/lib/python3.10/dist-packages/PIL/Image.py\", line 2563, in save\n",
            "    fp = builtins.open(filename, \"w+b\")\n",
            "FileNotFoundError: [Errno 2] No such file or directory: '/results/wordcloud.png'\n",
            "\n",
            "----------------------------------------------------------------------\n",
            "Ran 5 tests in 0.496s\n",
            "\n",
            "FAILED (errors=4)\n",
            "Setting `pad_token_id` to `eos_token_id`:2 for open-end generation.\n"
          ]
        },
        {
          "output_type": "stream",
          "name": "stdout",
          "text": [
            "36\n"
          ]
        },
        {
          "output_type": "stream",
          "name": "stderr",
          "text": [
            "EEEEEE\n",
            "======================================================================\n",
            "ERROR: test_case_1 (builtins.TestCases)\n",
            "----------------------------------------------------------------------\n",
            "Traceback (most recent call last):\n",
            "  File \"<string>\", line 6, in test_case_1\n",
            "NameError: name 'pd' is not defined\n",
            "\n",
            "======================================================================\n",
            "ERROR: test_case_2 (builtins.TestCases)\n",
            "----------------------------------------------------------------------\n",
            "Traceback (most recent call last):\n",
            "  File \"<string>\", line 10, in test_case_2\n",
            "NameError: name 'pd' is not defined\n",
            "\n",
            "======================================================================\n",
            "ERROR: test_case_3 (builtins.TestCases)\n",
            "----------------------------------------------------------------------\n",
            "Traceback (most recent call last):\n",
            "  File \"<string>\", line 15, in test_case_3\n",
            "NameError: name 'pd' is not defined\n",
            "\n",
            "======================================================================\n",
            "ERROR: test_case_4 (builtins.TestCases)\n",
            "----------------------------------------------------------------------\n",
            "Traceback (most recent call last):\n",
            "  File \"<string>\", line 22, in test_case_4\n",
            "NameError: name 'pd' is not defined\n",
            "\n",
            "======================================================================\n",
            "ERROR: test_case_5 (builtins.TestCases)\n",
            "----------------------------------------------------------------------\n",
            "Traceback (most recent call last):\n",
            "  File \"<string>\", line 30, in test_case_5\n",
            "NameError: name 'pd' is not defined\n",
            "\n",
            "======================================================================\n",
            "ERROR: test_case_7 (builtins.TestCases)\n",
            "----------------------------------------------------------------------\n",
            "Traceback (most recent call last):\n",
            "  File \"<string>\", line 35, in test_case_7\n",
            "NameError: name 'pd' is not defined\n",
            "\n",
            "----------------------------------------------------------------------\n",
            "Ran 6 tests in 0.007s\n",
            "\n",
            "FAILED (errors=6)\n",
            "Setting `pad_token_id` to `eos_token_id`:2 for open-end generation.\n"
          ]
        },
        {
          "output_type": "stream",
          "name": "stdout",
          "text": [
            "37\n"
          ]
        },
        {
          "output_type": "stream",
          "name": "stderr",
          "text": [
            "EEEEEE\n",
            "======================================================================\n",
            "ERROR: test_case_1 (builtins.TestCases)\n",
            "----------------------------------------------------------------------\n",
            "Traceback (most recent call last):\n",
            "  File \"<string>\", line 6, in test_case_1\n",
            "NameError: name 'pd' is not defined\n",
            "\n",
            "======================================================================\n",
            "ERROR: test_case_2 (builtins.TestCases)\n",
            "----------------------------------------------------------------------\n",
            "Traceback (most recent call last):\n",
            "  File \"<string>\", line 16, in test_case_2\n",
            "NameError: name 'pd' is not defined\n",
            "\n",
            "======================================================================\n",
            "ERROR: test_case_3 (builtins.TestCases)\n",
            "----------------------------------------------------------------------\n",
            "Traceback (most recent call last):\n",
            "  File \"<string>\", line 22, in test_case_3\n",
            "NameError: name 'pd' is not defined\n",
            "\n",
            "======================================================================\n",
            "ERROR: test_case_4 (builtins.TestCases)\n",
            "----------------------------------------------------------------------\n",
            "Traceback (most recent call last):\n",
            "  File \"<string>\", line 34, in test_case_4\n",
            "NameError: name 'pd' is not defined\n",
            "\n",
            "======================================================================\n",
            "ERROR: test_case_5 (builtins.TestCases)\n",
            "----------------------------------------------------------------------\n",
            "Traceback (most recent call last):\n",
            "  File \"<string>\", line 44, in test_case_5\n",
            "NameError: name 'pd' is not defined\n",
            "\n",
            "======================================================================\n",
            "ERROR: test_case_6 (builtins.TestCases)\n",
            "----------------------------------------------------------------------\n",
            "Traceback (most recent call last):\n",
            "  File \"<string>\", line 52, in test_case_6\n",
            "NameError: name 'pd' is not defined\n",
            "\n",
            "----------------------------------------------------------------------\n",
            "Ran 6 tests in 0.007s\n",
            "\n",
            "FAILED (errors=6)\n",
            "Setting `pad_token_id` to `eos_token_id`:2 for open-end generation.\n"
          ]
        },
        {
          "output_type": "stream",
          "name": "stdout",
          "text": [
            "38\n"
          ]
        },
        {
          "output_type": "stream",
          "name": "stderr",
          "text": [
            "EEEEE\n",
            "======================================================================\n",
            "ERROR: test_case_1 (builtins.TestCases)\n",
            "----------------------------------------------------------------------\n",
            "Traceback (most recent call last):\n",
            "  File \"<string>\", line 6, in test_case_1\n",
            "NameError: name 'pd' is not defined\n",
            "\n",
            "======================================================================\n",
            "ERROR: test_case_2 (builtins.TestCases)\n",
            "----------------------------------------------------------------------\n",
            "Traceback (most recent call last):\n",
            "  File \"<string>\", line 18, in test_case_2\n",
            "NameError: name 'pd' is not defined\n",
            "\n",
            "======================================================================\n",
            "ERROR: test_case_3 (builtins.TestCases)\n",
            "----------------------------------------------------------------------\n",
            "Traceback (most recent call last):\n",
            "  File \"<string>\", line 30, in test_case_3\n",
            "NameError: name 'pd' is not defined\n",
            "\n",
            "======================================================================\n",
            "ERROR: test_case_4 (builtins.TestCases)\n",
            "----------------------------------------------------------------------\n",
            "Traceback (most recent call last):\n",
            "  File \"<string>\", line 43, in test_case_4\n",
            "NameError: name 'pd' is not defined\n",
            "\n",
            "======================================================================\n",
            "ERROR: test_case_5 (builtins.TestCases)\n",
            "----------------------------------------------------------------------\n",
            "Traceback (most recent call last):\n",
            "  File \"<string>\", line 53, in test_case_5\n",
            "NameError: name 'pd' is not defined\n",
            "\n",
            "----------------------------------------------------------------------\n",
            "Ran 5 tests in 0.006s\n",
            "\n",
            "FAILED (errors=5)\n",
            "Setting `pad_token_id` to `eos_token_id`:2 for open-end generation.\n"
          ]
        },
        {
          "output_type": "stream",
          "name": "stdout",
          "text": [
            "39\n"
          ]
        },
        {
          "output_type": "stream",
          "name": "stderr",
          "text": [
            "EEEEE\n",
            "======================================================================\n",
            "ERROR: test_case_1 (builtins.TestCases)\n",
            "----------------------------------------------------------------------\n",
            "Traceback (most recent call last):\n",
            "  File \"<string>\", line 6, in test_case_1\n",
            "NameError: name 'np' is not defined\n",
            "\n",
            "======================================================================\n",
            "ERROR: test_case_2 (builtins.TestCases)\n",
            "----------------------------------------------------------------------\n",
            "Traceback (most recent call last):\n",
            "  File \"<string>\", line 20, in test_case_2\n",
            "NameError: name 'np' is not defined\n",
            "\n",
            "======================================================================\n",
            "ERROR: test_case_3 (builtins.TestCases)\n",
            "----------------------------------------------------------------------\n",
            "Traceback (most recent call last):\n",
            "  File \"<string>\", line 34, in test_case_3\n",
            "NameError: name 'np' is not defined\n",
            "\n",
            "======================================================================\n",
            "ERROR: test_case_4 (builtins.TestCases)\n",
            "----------------------------------------------------------------------\n",
            "Traceback (most recent call last):\n",
            "  File \"<string>\", line 48, in test_case_4\n",
            "NameError: name 'np' is not defined\n",
            "\n",
            "======================================================================\n",
            "ERROR: test_case_5 (builtins.TestCases)\n",
            "----------------------------------------------------------------------\n",
            "Traceback (most recent call last):\n",
            "  File \"<string>\", line 78, in test_case_5\n",
            "NameError: name 'np' is not defined\n",
            "\n",
            "----------------------------------------------------------------------\n",
            "Ran 5 tests in 0.005s\n",
            "\n",
            "FAILED (errors=5)\n",
            "Setting `pad_token_id` to `eos_token_id`:2 for open-end generation.\n"
          ]
        },
        {
          "output_type": "stream",
          "name": "stdout",
          "text": [
            "40\n"
          ]
        },
        {
          "output_type": "stream",
          "name": "stderr",
          "text": [
            "EEEEE\n",
            "======================================================================\n",
            "ERROR: test_case_1 (builtins.TestCases)\n",
            "----------------------------------------------------------------------\n",
            "Traceback (most recent call last):\n",
            "  File \"<string>\", line 5, in test_case_1\n",
            "NameError: name 'np' is not defined\n",
            "\n",
            "======================================================================\n",
            "ERROR: test_case_2 (builtins.TestCases)\n",
            "----------------------------------------------------------------------\n",
            "Traceback (most recent call last):\n",
            "  File \"<string>\", line 8, in test_case_2\n",
            "NameError: name 'np' is not defined\n",
            "\n",
            "======================================================================\n",
            "ERROR: test_case_3 (builtins.TestCases)\n",
            "----------------------------------------------------------------------\n",
            "Traceback (most recent call last):\n",
            "  File \"<string>\", line 11, in test_case_3\n",
            "NameError: name 'np' is not defined\n",
            "\n",
            "======================================================================\n",
            "ERROR: test_case_4 (builtins.TestCases)\n",
            "----------------------------------------------------------------------\n",
            "Traceback (most recent call last):\n",
            "  File \"<string>\", line 14, in test_case_4\n",
            "NameError: name 'np' is not defined\n",
            "\n",
            "======================================================================\n",
            "ERROR: test_case_5 (builtins.TestCases)\n",
            "----------------------------------------------------------------------\n",
            "Traceback (most recent call last):\n",
            "  File \"<string>\", line 21, in test_case_5\n",
            "NameError: name 'np' is not defined\n",
            "\n",
            "----------------------------------------------------------------------\n",
            "Ran 5 tests in 0.006s\n",
            "\n",
            "FAILED (errors=5)\n",
            "Setting `pad_token_id` to `eos_token_id`:2 for open-end generation.\n"
          ]
        },
        {
          "output_type": "stream",
          "name": "stdout",
          "text": [
            "41\n"
          ]
        },
        {
          "output_type": "stream",
          "name": "stderr",
          "text": [
            "Setting `pad_token_id` to `eos_token_id`:2 for open-end generation.\n"
          ]
        },
        {
          "output_type": "stream",
          "name": "stdout",
          "text": [
            "42\n"
          ]
        },
        {
          "output_type": "stream",
          "name": "stderr",
          "text": [
            "Setting `pad_token_id` to `eos_token_id`:2 for open-end generation.\n"
          ]
        },
        {
          "output_type": "stream",
          "name": "stdout",
          "text": [
            "43\n"
          ]
        },
        {
          "output_type": "stream",
          "name": "stderr",
          "text": [
            "EEEEE\n",
            "======================================================================\n",
            "ERROR: test_case_1 (builtins.TestCases)\n",
            "----------------------------------------------------------------------\n",
            "Traceback (most recent call last):\n",
            "  File \"<string>\", line 6, in test_case_1\n",
            "NameError: name 'np' is not defined\n",
            "\n",
            "======================================================================\n",
            "ERROR: test_case_2 (builtins.TestCases)\n",
            "----------------------------------------------------------------------\n",
            "Traceback (most recent call last):\n",
            "  File \"<string>\", line 13, in test_case_2\n",
            "NameError: name 'np' is not defined\n",
            "\n",
            "======================================================================\n",
            "ERROR: test_case_3 (builtins.TestCases)\n",
            "----------------------------------------------------------------------\n",
            "Traceback (most recent call last):\n",
            "  File \"<string>\", line 21, in test_case_3\n",
            "NameError: name 'np' is not defined\n",
            "\n",
            "======================================================================\n",
            "ERROR: test_case_4 (builtins.TestCases)\n",
            "----------------------------------------------------------------------\n",
            "Traceback (most recent call last):\n",
            "  File \"<string>\", line 29, in test_case_4\n",
            "NameError: name 'np' is not defined\n",
            "\n",
            "======================================================================\n",
            "ERROR: test_case_5 (builtins.TestCases)\n",
            "----------------------------------------------------------------------\n",
            "Traceback (most recent call last):\n",
            "  File \"<string>\", line 37, in test_case_5\n",
            "NameError: name 'np' is not defined\n",
            "\n",
            "----------------------------------------------------------------------\n",
            "Ran 5 tests in 0.007s\n",
            "\n",
            "FAILED (errors=5)\n",
            "Setting `pad_token_id` to `eos_token_id`:2 for open-end generation.\n"
          ]
        },
        {
          "output_type": "stream",
          "name": "stdout",
          "text": [
            "44\n"
          ]
        },
        {
          "output_type": "stream",
          "name": "stderr",
          "text": [
            "EEEEEE\n",
            "======================================================================\n",
            "ERROR: test_case_1 (builtins.TestCases)\n",
            "----------------------------------------------------------------------\n",
            "Traceback (most recent call last):\n",
            "  File \"<string>\", line 7, in setUp\n",
            "NameError: name 'pd' is not defined\n",
            "\n",
            "======================================================================\n",
            "ERROR: test_case_2 (builtins.TestCases)\n",
            "----------------------------------------------------------------------\n",
            "Traceback (most recent call last):\n",
            "  File \"<string>\", line 7, in setUp\n",
            "NameError: name 'pd' is not defined\n",
            "\n",
            "======================================================================\n",
            "ERROR: test_case_3 (builtins.TestCases)\n",
            "----------------------------------------------------------------------\n",
            "Traceback (most recent call last):\n",
            "  File \"<string>\", line 7, in setUp\n",
            "NameError: name 'pd' is not defined\n",
            "\n",
            "======================================================================\n",
            "ERROR: test_case_4 (builtins.TestCases)\n",
            "----------------------------------------------------------------------\n",
            "Traceback (most recent call last):\n",
            "  File \"<string>\", line 7, in setUp\n",
            "NameError: name 'pd' is not defined\n",
            "\n",
            "======================================================================\n",
            "ERROR: test_case_5 (builtins.TestCases)\n",
            "----------------------------------------------------------------------\n",
            "Traceback (most recent call last):\n",
            "  File \"<string>\", line 7, in setUp\n",
            "NameError: name 'pd' is not defined\n",
            "\n",
            "======================================================================\n",
            "ERROR: test_case_6 (builtins.TestCases)\n",
            "----------------------------------------------------------------------\n",
            "Traceback (most recent call last):\n",
            "  File \"<string>\", line 7, in setUp\n",
            "NameError: name 'pd' is not defined\n",
            "\n",
            "----------------------------------------------------------------------\n",
            "Ran 6 tests in 0.006s\n",
            "\n",
            "FAILED (errors=6)\n",
            "Setting `pad_token_id` to `eos_token_id`:2 for open-end generation.\n"
          ]
        },
        {
          "output_type": "stream",
          "name": "stdout",
          "text": [
            "45\n"
          ]
        },
        {
          "output_type": "stream",
          "name": "stderr",
          "text": [
            "EEEEE\n",
            "======================================================================\n",
            "ERROR: test_case_1 (builtins.TestCases)\n",
            "----------------------------------------------------------------------\n",
            "Traceback (most recent call last):\n",
            "  File \"<string>\", line 7, in test_case_1\n",
            "NameError: name 'pd' is not defined\n",
            "\n",
            "======================================================================\n",
            "ERROR: test_case_2 (builtins.TestCases)\n",
            "----------------------------------------------------------------------\n",
            "Traceback (most recent call last):\n",
            "  File \"<string>\", line 16, in test_case_2\n",
            "NameError: name 'pd' is not defined\n",
            "\n",
            "======================================================================\n",
            "ERROR: test_case_3 (builtins.TestCases)\n",
            "----------------------------------------------------------------------\n",
            "Traceback (most recent call last):\n",
            "  File \"<string>\", line 23, in test_case_3\n",
            "NameError: name 'pd' is not defined\n",
            "\n",
            "======================================================================\n",
            "ERROR: test_case_4 (builtins.TestCases)\n",
            "----------------------------------------------------------------------\n",
            "Traceback (most recent call last):\n",
            "  File \"<string>\", line 33, in test_case_4\n",
            "NameError: name 'pd' is not defined\n",
            "\n",
            "======================================================================\n",
            "ERROR: test_case_5 (builtins.TestCases)\n",
            "----------------------------------------------------------------------\n",
            "Traceback (most recent call last):\n",
            "  File \"<string>\", line 43, in test_case_5\n",
            "NameError: name 'pd' is not defined\n",
            "\n",
            "----------------------------------------------------------------------\n",
            "Ran 5 tests in 0.006s\n",
            "\n",
            "FAILED (errors=5)\n",
            "Setting `pad_token_id` to `eos_token_id`:2 for open-end generation.\n"
          ]
        },
        {
          "output_type": "stream",
          "name": "stdout",
          "text": [
            "46\n"
          ]
        },
        {
          "output_type": "stream",
          "name": "stderr",
          "text": [
            "Setting `pad_token_id` to `eos_token_id`:2 for open-end generation.\n"
          ]
        },
        {
          "output_type": "stream",
          "name": "stdout",
          "text": [
            "47\n"
          ]
        },
        {
          "output_type": "stream",
          "name": "stderr",
          "text": [
            "EEEEEEE\n",
            "======================================================================\n",
            "ERROR: test_case_1 (builtins.TestCases)\n",
            "----------------------------------------------------------------------\n",
            "Traceback (most recent call last):\n",
            "  File \"<string>\", line 7, in test_case_1\n",
            "NameError: name 'pd' is not defined\n",
            "\n",
            "======================================================================\n",
            "ERROR: test_case_2 (builtins.TestCases)\n",
            "----------------------------------------------------------------------\n",
            "Traceback (most recent call last):\n",
            "  File \"<string>\", line 18, in test_case_2\n",
            "NameError: name 'pd' is not defined\n",
            "\n",
            "======================================================================\n",
            "ERROR: test_case_3 (builtins.TestCases)\n",
            "----------------------------------------------------------------------\n",
            "Traceback (most recent call last):\n",
            "  File \"<string>\", line 29, in test_case_3\n",
            "NameError: name 'pd' is not defined\n",
            "\n",
            "======================================================================\n",
            "ERROR: test_case_4 (builtins.TestCases)\n",
            "----------------------------------------------------------------------\n",
            "Traceback (most recent call last):\n",
            "  File \"<string>\", line 46, in test_case_4\n",
            "NameError: name 'pd' is not defined\n",
            "\n",
            "======================================================================\n",
            "ERROR: test_case_5 (builtins.TestCases)\n",
            "----------------------------------------------------------------------\n",
            "Traceback (most recent call last):\n",
            "  File \"<string>\", line 56, in test_case_5\n",
            "NameError: name 'pd' is not defined\n",
            "\n",
            "======================================================================\n",
            "ERROR: test_case_6 (builtins.TestCases)\n",
            "----------------------------------------------------------------------\n",
            "Traceback (most recent call last):\n",
            "  File \"<string>\", line 66, in test_case_6\n",
            "NameError: name 'pd' is not defined\n",
            "\n",
            "======================================================================\n",
            "ERROR: test_case_7 (builtins.TestCases)\n",
            "----------------------------------------------------------------------\n",
            "Traceback (most recent call last):\n",
            "  File \"<string>\", line 77, in test_case_7\n",
            "NameError: name 'pd' is not defined\n",
            "\n",
            "----------------------------------------------------------------------\n",
            "Ran 7 tests in 0.009s\n",
            "\n",
            "FAILED (errors=7)\n",
            "Setting `pad_token_id` to `eos_token_id`:2 for open-end generation.\n"
          ]
        },
        {
          "output_type": "stream",
          "name": "stdout",
          "text": [
            "48\n"
          ]
        },
        {
          "output_type": "stream",
          "name": "stderr",
          "text": [
            "Setting `pad_token_id` to `eos_token_id`:2 for open-end generation.\n"
          ]
        },
        {
          "output_type": "stream",
          "name": "stdout",
          "text": [
            "49\n"
          ]
        },
        {
          "output_type": "stream",
          "name": "stderr",
          "text": [
            "EEEEE\n",
            "======================================================================\n",
            "ERROR: test_case_1 (builtins.TestCases)\n",
            "----------------------------------------------------------------------\n",
            "Traceback (most recent call last):\n",
            "  File \"<string>\", line 7, in setUp\n",
            "NameError: name 'os' is not defined\n",
            "\n",
            "======================================================================\n",
            "ERROR: test_case_2 (builtins.TestCases)\n",
            "----------------------------------------------------------------------\n",
            "Traceback (most recent call last):\n",
            "  File \"<string>\", line 7, in setUp\n",
            "NameError: name 'os' is not defined\n",
            "\n",
            "======================================================================\n",
            "ERROR: test_case_3 (builtins.TestCases)\n",
            "----------------------------------------------------------------------\n",
            "Traceback (most recent call last):\n",
            "  File \"<string>\", line 7, in setUp\n",
            "NameError: name 'os' is not defined\n",
            "\n",
            "======================================================================\n",
            "ERROR: test_case_4 (builtins.TestCases)\n",
            "----------------------------------------------------------------------\n",
            "Traceback (most recent call last):\n",
            "  File \"<string>\", line 7, in setUp\n",
            "NameError: name 'os' is not defined\n",
            "\n",
            "======================================================================\n",
            "ERROR: test_case_5 (builtins.TestCases)\n",
            "----------------------------------------------------------------------\n",
            "Traceback (most recent call last):\n",
            "  File \"<string>\", line 7, in setUp\n",
            "NameError: name 'os' is not defined\n",
            "\n",
            "----------------------------------------------------------------------\n",
            "Ran 5 tests in 0.007s\n",
            "\n",
            "FAILED (errors=5)\n",
            "Setting `pad_token_id` to `eos_token_id`:2 for open-end generation.\n"
          ]
        },
        {
          "output_type": "stream",
          "name": "stdout",
          "text": [
            "50\n"
          ]
        },
        {
          "output_type": "stream",
          "name": "stderr",
          "text": [
            "EE.EE\n",
            "======================================================================\n",
            "ERROR: test_case_1 (builtins.TestCases)\n",
            "----------------------------------------------------------------------\n",
            "Traceback (most recent call last):\n",
            "  File \"<string>\", line 14, in test_case_1\n",
            "  File \"<string>\", line 50, in assert_function_output\n",
            "IndexError: invalid index to scalar variable.\n",
            "\n",
            "======================================================================\n",
            "ERROR: test_case_2 (builtins.TestCases)\n",
            "----------------------------------------------------------------------\n",
            "Traceback (most recent call last):\n",
            "  File \"<string>\", line 17, in test_case_2\n",
            "  File \"<string>\", line 50, in assert_function_output\n",
            "IndexError: invalid index to scalar variable.\n",
            "\n",
            "======================================================================\n",
            "ERROR: test_case_4 (builtins.TestCases)\n",
            "----------------------------------------------------------------------\n",
            "Traceback (most recent call last):\n",
            "  File \"<string>\", line 28, in test_case_4\n",
            "  File \"<string>\", line 50, in assert_function_output\n",
            "IndexError: invalid index to scalar variable.\n",
            "\n",
            "======================================================================\n",
            "ERROR: test_case_5 (builtins.TestCases)\n",
            "----------------------------------------------------------------------\n",
            "Traceback (most recent call last):\n",
            "  File \"<string>\", line 31, in test_case_5\n",
            "  File \"<string>\", line 50, in assert_function_output\n",
            "IndexError: invalid index to scalar variable.\n",
            "\n",
            "----------------------------------------------------------------------\n",
            "Ran 5 tests in 0.053s\n",
            "\n",
            "FAILED (errors=4)\n",
            "Setting `pad_token_id` to `eos_token_id`:2 for open-end generation.\n"
          ]
        },
        {
          "output_type": "stream",
          "name": "stdout",
          "text": [
            "51\n"
          ]
        },
        {
          "output_type": "stream",
          "name": "stderr",
          "text": [
            "Setting `pad_token_id` to `eos_token_id`:2 for open-end generation.\n"
          ]
        },
        {
          "output_type": "stream",
          "name": "stdout",
          "text": [
            "52\n"
          ]
        },
        {
          "output_type": "stream",
          "name": "stderr",
          "text": [
            "EEEEE\n",
            "======================================================================\n",
            "ERROR: test_case_1 (builtins.TestCases)\n",
            "----------------------------------------------------------------------\n",
            "Traceback (most recent call last):\n",
            "  File \"<string>\", line 11, in test_case_1\n",
            "NameError: name 'pd' is not defined\n",
            "\n",
            "======================================================================\n",
            "ERROR: test_case_2 (builtins.TestCases)\n",
            "----------------------------------------------------------------------\n",
            "Traceback (most recent call last):\n",
            "  File \"<string>\", line 25, in test_case_2\n",
            "NameError: name 'pd' is not defined\n",
            "\n",
            "======================================================================\n",
            "ERROR: test_case_3 (builtins.TestCases)\n",
            "----------------------------------------------------------------------\n",
            "Traceback (most recent call last):\n",
            "  File \"<string>\", line 37, in test_case_3\n",
            "NameError: name 'pd' is not defined\n",
            "\n",
            "======================================================================\n",
            "ERROR: test_case_4 (builtins.TestCases)\n",
            "----------------------------------------------------------------------\n",
            "Traceback (most recent call last):\n",
            "  File \"<string>\", line 51, in test_case_4\n",
            "NameError: name 'pd' is not defined\n",
            "\n",
            "======================================================================\n",
            "ERROR: test_case_5 (builtins.TestCases)\n",
            "----------------------------------------------------------------------\n",
            "Traceback (most recent call last):\n",
            "  File \"<string>\", line 63, in test_case_5\n",
            "NameError: name 'pd' is not defined\n",
            "\n",
            "----------------------------------------------------------------------\n",
            "Ran 5 tests in 0.005s\n",
            "\n",
            "FAILED (errors=5)\n",
            "Setting `pad_token_id` to `eos_token_id`:2 for open-end generation.\n"
          ]
        },
        {
          "output_type": "stream",
          "name": "stdout",
          "text": [
            "53\n"
          ]
        },
        {
          "output_type": "stream",
          "name": "stderr",
          "text": [
            "Setting `pad_token_id` to `eos_token_id`:2 for open-end generation.\n"
          ]
        },
        {
          "output_type": "stream",
          "name": "stdout",
          "text": [
            "54\n"
          ]
        },
        {
          "output_type": "stream",
          "name": "stderr",
          "text": [
            "EE.EE\n",
            "======================================================================\n",
            "ERROR: test_case_1 (builtins.TestCases)\n",
            "----------------------------------------------------------------------\n",
            "Traceback (most recent call last):\n",
            "  File \"/usr/local/lib/python3.10/dist-packages/pandas/core/internals/construction.py\", line 939, in _finalize_columns_and_data\n",
            "    columns = _validate_or_indexify_columns(contents, columns)\n",
            "  File \"/usr/local/lib/python3.10/dist-packages/pandas/core/internals/construction.py\", line 986, in _validate_or_indexify_columns\n",
            "    raise AssertionError(\n",
            "AssertionError: 4 columns passed, passed data had 5 columns\n",
            "\n",
            "The above exception was the direct cause of the following exception:\n",
            "\n",
            "Traceback (most recent call last):\n",
            "  File \"<string>\", line 6, in test_case_1\n",
            "  File \"<string>\", line 42, in task_func\n",
            "  File \"/usr/local/lib/python3.10/dist-packages/pandas/core/frame.py\", line 806, in __init__\n",
            "    arrays, columns, index = nested_data_to_arrays(\n",
            "  File \"/usr/local/lib/python3.10/dist-packages/pandas/core/internals/construction.py\", line 520, in nested_data_to_arrays\n",
            "    arrays, columns = to_arrays(data, columns, dtype=dtype)\n",
            "  File \"/usr/local/lib/python3.10/dist-packages/pandas/core/internals/construction.py\", line 845, in to_arrays\n",
            "    content, columns = _finalize_columns_and_data(arr, columns, dtype)\n",
            "  File \"/usr/local/lib/python3.10/dist-packages/pandas/core/internals/construction.py\", line 942, in _finalize_columns_and_data\n",
            "    raise ValueError(err) from err\n",
            "ValueError: 4 columns passed, passed data had 5 columns\n",
            "\n",
            "======================================================================\n",
            "ERROR: test_case_2 (builtins.TestCases)\n",
            "----------------------------------------------------------------------\n",
            "Traceback (most recent call last):\n",
            "  File \"/usr/local/lib/python3.10/dist-packages/pandas/core/internals/construction.py\", line 939, in _finalize_columns_and_data\n",
            "    columns = _validate_or_indexify_columns(contents, columns)\n",
            "  File \"/usr/local/lib/python3.10/dist-packages/pandas/core/internals/construction.py\", line 986, in _validate_or_indexify_columns\n",
            "    raise AssertionError(\n",
            "AssertionError: 4 columns passed, passed data had 5 columns\n",
            "\n",
            "The above exception was the direct cause of the following exception:\n",
            "\n",
            "Traceback (most recent call last):\n",
            "  File \"<string>\", line 19, in test_case_2\n",
            "  File \"<string>\", line 42, in task_func\n",
            "  File \"/usr/local/lib/python3.10/dist-packages/pandas/core/frame.py\", line 806, in __init__\n",
            "    arrays, columns, index = nested_data_to_arrays(\n",
            "  File \"/usr/local/lib/python3.10/dist-packages/pandas/core/internals/construction.py\", line 520, in nested_data_to_arrays\n",
            "    arrays, columns = to_arrays(data, columns, dtype=dtype)\n",
            "  File \"/usr/local/lib/python3.10/dist-packages/pandas/core/internals/construction.py\", line 845, in to_arrays\n",
            "    content, columns = _finalize_columns_and_data(arr, columns, dtype)\n",
            "  File \"/usr/local/lib/python3.10/dist-packages/pandas/core/internals/construction.py\", line 942, in _finalize_columns_and_data\n",
            "    raise ValueError(err) from err\n",
            "ValueError: 4 columns passed, passed data had 5 columns\n",
            "\n",
            "======================================================================\n",
            "ERROR: test_case_4 (builtins.TestCases)\n",
            "----------------------------------------------------------------------\n",
            "Traceback (most recent call last):\n",
            "  File \"/usr/local/lib/python3.10/dist-packages/pandas/core/internals/construction.py\", line 939, in _finalize_columns_and_data\n",
            "    columns = _validate_or_indexify_columns(contents, columns)\n",
            "  File \"/usr/local/lib/python3.10/dist-packages/pandas/core/internals/construction.py\", line 986, in _validate_or_indexify_columns\n",
            "    raise AssertionError(\n",
            "AssertionError: 4 columns passed, passed data had 5 columns\n",
            "\n",
            "The above exception was the direct cause of the following exception:\n",
            "\n",
            "Traceback (most recent call last):\n",
            "  File \"<string>\", line 32, in test_case_4\n",
            "  File \"<string>\", line 42, in task_func\n",
            "  File \"/usr/local/lib/python3.10/dist-packages/pandas/core/frame.py\", line 806, in __init__\n",
            "    arrays, columns, index = nested_data_to_arrays(\n",
            "  File \"/usr/local/lib/python3.10/dist-packages/pandas/core/internals/construction.py\", line 520, in nested_data_to_arrays\n",
            "    arrays, columns = to_arrays(data, columns, dtype=dtype)\n",
            "  File \"/usr/local/lib/python3.10/dist-packages/pandas/core/internals/construction.py\", line 845, in to_arrays\n",
            "    content, columns = _finalize_columns_and_data(arr, columns, dtype)\n",
            "  File \"/usr/local/lib/python3.10/dist-packages/pandas/core/internals/construction.py\", line 942, in _finalize_columns_and_data\n",
            "    raise ValueError(err) from err\n",
            "ValueError: 4 columns passed, passed data had 5 columns\n",
            "\n",
            "======================================================================\n",
            "ERROR: test_case_5 (builtins.TestCases)\n",
            "----------------------------------------------------------------------\n",
            "Traceback (most recent call last):\n",
            "  File \"/usr/local/lib/python3.10/dist-packages/pandas/core/internals/construction.py\", line 939, in _finalize_columns_and_data\n",
            "    columns = _validate_or_indexify_columns(contents, columns)\n",
            "  File \"/usr/local/lib/python3.10/dist-packages/pandas/core/internals/construction.py\", line 986, in _validate_or_indexify_columns\n",
            "    raise AssertionError(\n",
            "AssertionError: 4 columns passed, passed data had 5 columns\n",
            "\n",
            "The above exception was the direct cause of the following exception:\n",
            "\n",
            "Traceback (most recent call last):\n",
            "  File \"<string>\", line 42, in test_case_5\n",
            "  File \"<string>\", line 42, in task_func\n",
            "  File \"/usr/local/lib/python3.10/dist-packages/pandas/core/frame.py\", line 806, in __init__\n",
            "    arrays, columns, index = nested_data_to_arrays(\n",
            "  File \"/usr/local/lib/python3.10/dist-packages/pandas/core/internals/construction.py\", line 520, in nested_data_to_arrays\n",
            "    arrays, columns = to_arrays(data, columns, dtype=dtype)\n",
            "  File \"/usr/local/lib/python3.10/dist-packages/pandas/core/internals/construction.py\", line 845, in to_arrays\n",
            "    content, columns = _finalize_columns_and_data(arr, columns, dtype)\n",
            "  File \"/usr/local/lib/python3.10/dist-packages/pandas/core/internals/construction.py\", line 942, in _finalize_columns_and_data\n",
            "    raise ValueError(err) from err\n",
            "ValueError: 4 columns passed, passed data had 5 columns\n",
            "\n",
            "----------------------------------------------------------------------\n",
            "Ran 5 tests in 0.024s\n",
            "\n",
            "FAILED (errors=4)\n",
            "Setting `pad_token_id` to `eos_token_id`:2 for open-end generation.\n"
          ]
        },
        {
          "output_type": "stream",
          "name": "stdout",
          "text": [
            "55\n"
          ]
        },
        {
          "output_type": "stream",
          "name": "stderr",
          "text": [
            "FFFFF\n",
            "======================================================================\n",
            "FAIL: test_case_1 (builtins.TestCases)\n",
            "----------------------------------------------------------------------\n",
            "Traceback (most recent call last):\n",
            "  File \"<string>\", line 9, in test_case_1\n",
            "AssertionError: Tuples differ: (10, 1) != (2, 6)\n",
            "\n",
            "First differing element 0:\n",
            "10\n",
            "2\n",
            "\n",
            "- (10, 1)\n",
            "+ (2, 6)\n",
            "\n",
            "======================================================================\n",
            "FAIL: test_case_2 (builtins.TestCases)\n",
            "----------------------------------------------------------------------\n",
            "Traceback (most recent call last):\n",
            "  File \"<string>\", line 19, in test_case_2\n",
            "AssertionError: Tuples differ: (3, 1) != (1, 2)\n",
            "\n",
            "First differing element 0:\n",
            "3\n",
            "1\n",
            "\n",
            "- (3, 1)\n",
            "+ (1, 2)\n",
            "\n",
            "======================================================================\n",
            "FAIL: test_case_3 (builtins.TestCases)\n",
            "----------------------------------------------------------------------\n",
            "Traceback (most recent call last):\n",
            "  File \"<string>\", line 28, in test_case_3\n",
            "AssertionError: Tuples differ: (5, 1) != (1, 5)\n",
            "\n",
            "First differing element 0:\n",
            "5\n",
            "1\n",
            "\n",
            "- (5, 1)\n",
            "+ (1, 5)\n",
            "\n",
            "======================================================================\n",
            "FAIL: test_case_4 (builtins.TestCases)\n",
            "----------------------------------------------------------------------\n",
            "Traceback (most recent call last):\n",
            "  File \"<string>\", line 37, in test_case_4\n",
            "AssertionError: Tuples differ: (33, 1) != (1, 1)\n",
            "\n",
            "First differing element 0:\n",
            "33\n",
            "1\n",
            "\n",
            "- (33, 1)\n",
            "?  ^^\n",
            "\n",
            "+ (1, 1)\n",
            "?  ^\n",
            "\n",
            "\n",
            "======================================================================\n",
            "FAIL: test_case_5 (builtins.TestCases)\n",
            "----------------------------------------------------------------------\n",
            "Traceback (most recent call last):\n",
            "  File \"<string>\", line 46, in test_case_5\n",
            "AssertionError: Tuples differ: (27, 1) != (5, 11)\n",
            "\n",
            "First differing element 0:\n",
            "27\n",
            "5\n",
            "\n",
            "- (27, 1)\n",
            "+ (5, 11)\n",
            "\n",
            "----------------------------------------------------------------------\n",
            "Ran 5 tests in 0.010s\n",
            "\n",
            "FAILED (failures=5)\n",
            "Setting `pad_token_id` to `eos_token_id`:2 for open-end generation.\n"
          ]
        },
        {
          "output_type": "stream",
          "name": "stdout",
          "text": [
            "56\n"
          ]
        },
        {
          "output_type": "stream",
          "name": "stderr",
          "text": [
            "EEEEE\n",
            "======================================================================\n",
            "ERROR: test_case_1 (builtins.TestCases)\n",
            "----------------------------------------------------------------------\n",
            "Traceback (most recent call last):\n",
            "  File \"<string>\", line 6, in test_case_1\n",
            "NameError: name 'pd' is not defined\n",
            "\n",
            "======================================================================\n",
            "ERROR: test_case_2 (builtins.TestCases)\n",
            "----------------------------------------------------------------------\n",
            "Traceback (most recent call last):\n",
            "  File \"<string>\", line 11, in test_case_2\n",
            "NameError: name 'pd' is not defined\n",
            "\n",
            "======================================================================\n",
            "ERROR: test_case_3 (builtins.TestCases)\n",
            "----------------------------------------------------------------------\n",
            "Traceback (most recent call last):\n",
            "  File \"<string>\", line 18, in test_case_3\n",
            "NameError: name 'pd' is not defined\n",
            "\n",
            "======================================================================\n",
            "ERROR: test_case_4 (builtins.TestCases)\n",
            "----------------------------------------------------------------------\n",
            "Traceback (most recent call last):\n",
            "  File \"<string>\", line 23, in test_case_4\n",
            "NameError: name 'pd' is not defined\n",
            "\n",
            "======================================================================\n",
            "ERROR: test_case_5 (builtins.TestCases)\n",
            "----------------------------------------------------------------------\n",
            "Traceback (most recent call last):\n",
            "  File \"<string>\", line 30, in test_case_5\n",
            "NameError: name 'pd' is not defined\n",
            "\n",
            "----------------------------------------------------------------------\n",
            "Ran 5 tests in 0.006s\n",
            "\n",
            "FAILED (errors=5)\n",
            "Setting `pad_token_id` to `eos_token_id`:2 for open-end generation.\n"
          ]
        },
        {
          "output_type": "stream",
          "name": "stdout",
          "text": [
            "57\n"
          ]
        },
        {
          "output_type": "stream",
          "name": "stderr",
          "text": [
            ".....\n",
            "----------------------------------------------------------------------\n",
            "Ran 5 tests in 0.012s\n",
            "\n",
            "OK\n",
            "Setting `pad_token_id` to `eos_token_id`:2 for open-end generation.\n"
          ]
        },
        {
          "output_type": "stream",
          "name": "stdout",
          "text": [
            "58\n"
          ]
        },
        {
          "output_type": "stream",
          "name": "stderr",
          "text": [
            "EEEEE\n",
            "======================================================================\n",
            "ERROR: test_case_1 (builtins.TestCases)\n",
            "----------------------------------------------------------------------\n",
            "Traceback (most recent call last):\n",
            "  File \"<string>\", line 7, in setUp\n",
            "NameError: name 'os' is not defined\n",
            "\n",
            "======================================================================\n",
            "ERROR: test_case_2 (builtins.TestCases)\n",
            "----------------------------------------------------------------------\n",
            "Traceback (most recent call last):\n",
            "  File \"<string>\", line 7, in setUp\n",
            "NameError: name 'os' is not defined\n",
            "\n",
            "======================================================================\n",
            "ERROR: test_case_3 (builtins.TestCases)\n",
            "----------------------------------------------------------------------\n",
            "Traceback (most recent call last):\n",
            "  File \"<string>\", line 7, in setUp\n",
            "NameError: name 'os' is not defined\n",
            "\n",
            "======================================================================\n",
            "ERROR: test_case_4 (builtins.TestCases)\n",
            "----------------------------------------------------------------------\n",
            "Traceback (most recent call last):\n",
            "  File \"<string>\", line 7, in setUp\n",
            "NameError: name 'os' is not defined\n",
            "\n",
            "======================================================================\n",
            "ERROR: test_case_5 (builtins.TestCases)\n",
            "----------------------------------------------------------------------\n",
            "Traceback (most recent call last):\n",
            "  File \"<string>\", line 7, in setUp\n",
            "NameError: name 'os' is not defined\n",
            "\n",
            "----------------------------------------------------------------------\n",
            "Ran 5 tests in 0.005s\n",
            "\n",
            "FAILED (errors=5)\n",
            "Setting `pad_token_id` to `eos_token_id`:2 for open-end generation.\n"
          ]
        },
        {
          "output_type": "stream",
          "name": "stdout",
          "text": [
            "59\n"
          ]
        },
        {
          "output_type": "stream",
          "name": "stderr",
          "text": [
            "EEEEE\n",
            "======================================================================\n",
            "ERROR: test_case_1 (builtins.TestCases)\n",
            "----------------------------------------------------------------------\n",
            "Traceback (most recent call last):\n",
            "  File \"<string>\", line 5, in test_case_1\n",
            "NameError: name 'np' is not defined\n",
            "\n",
            "======================================================================\n",
            "ERROR: test_case_2 (builtins.TestCases)\n",
            "----------------------------------------------------------------------\n",
            "Traceback (most recent call last):\n",
            "  File \"<string>\", line 15, in test_case_2\n",
            "NameError: name 'np' is not defined\n",
            "\n",
            "======================================================================\n",
            "ERROR: test_case_3 (builtins.TestCases)\n",
            "----------------------------------------------------------------------\n",
            "Traceback (most recent call last):\n",
            "  File \"<string>\", line 25, in test_case_3\n",
            "NameError: name 'np' is not defined\n",
            "\n",
            "======================================================================\n",
            "ERROR: test_case_4 (builtins.TestCases)\n",
            "----------------------------------------------------------------------\n",
            "Traceback (most recent call last):\n",
            "  File \"<string>\", line 35, in test_case_4\n",
            "NameError: name 'np' is not defined\n",
            "\n",
            "======================================================================\n",
            "ERROR: test_case_5 (builtins.TestCases)\n",
            "----------------------------------------------------------------------\n",
            "Traceback (most recent call last):\n",
            "  File \"<string>\", line 45, in test_case_5\n",
            "NameError: name 'np' is not defined\n",
            "\n",
            "----------------------------------------------------------------------\n",
            "Ran 5 tests in 0.007s\n",
            "\n",
            "FAILED (errors=5)\n",
            "Setting `pad_token_id` to `eos_token_id`:2 for open-end generation.\n"
          ]
        },
        {
          "output_type": "stream",
          "name": "stdout",
          "text": [
            "60\n"
          ]
        },
        {
          "output_type": "stream",
          "name": "stderr",
          "text": [
            "Setting `pad_token_id` to `eos_token_id`:2 for open-end generation.\n"
          ]
        },
        {
          "output_type": "stream",
          "name": "stdout",
          "text": [
            "61\n"
          ]
        },
        {
          "output_type": "stream",
          "name": "stderr",
          "text": [
            "EEEEE\n",
            "======================================================================\n",
            "ERROR: test_case_1 (builtins.TestCases)\n",
            "----------------------------------------------------------------------\n",
            "Traceback (most recent call last):\n",
            "  File \"<string>\", line 7, in setUp\n",
            "NameError: name 'os' is not defined\n",
            "\n",
            "======================================================================\n",
            "ERROR: test_case_2 (builtins.TestCases)\n",
            "----------------------------------------------------------------------\n",
            "Traceback (most recent call last):\n",
            "  File \"<string>\", line 7, in setUp\n",
            "NameError: name 'os' is not defined\n",
            "\n",
            "======================================================================\n",
            "ERROR: test_case_3 (builtins.TestCases)\n",
            "----------------------------------------------------------------------\n",
            "Traceback (most recent call last):\n",
            "  File \"<string>\", line 7, in setUp\n",
            "NameError: name 'os' is not defined\n",
            "\n",
            "======================================================================\n",
            "ERROR: test_case_4 (builtins.TestCases)\n",
            "----------------------------------------------------------------------\n",
            "Traceback (most recent call last):\n",
            "  File \"<string>\", line 7, in setUp\n",
            "NameError: name 'os' is not defined\n",
            "\n",
            "======================================================================\n",
            "ERROR: test_case_5 (builtins.TestCases)\n",
            "----------------------------------------------------------------------\n",
            "Traceback (most recent call last):\n",
            "  File \"<string>\", line 7, in setUp\n",
            "NameError: name 'os' is not defined\n",
            "\n",
            "----------------------------------------------------------------------\n",
            "Ran 5 tests in 0.006s\n",
            "\n",
            "FAILED (errors=5)\n",
            "Setting `pad_token_id` to `eos_token_id`:2 for open-end generation.\n"
          ]
        },
        {
          "output_type": "stream",
          "name": "stdout",
          "text": [
            "62\n"
          ]
        },
        {
          "output_type": "stream",
          "name": "stderr",
          "text": [
            "Setting `pad_token_id` to `eos_token_id`:2 for open-end generation.\n"
          ]
        },
        {
          "output_type": "stream",
          "name": "stdout",
          "text": [
            "63\n"
          ]
        },
        {
          "output_type": "stream",
          "name": "stderr",
          "text": [
            "Setting `pad_token_id` to `eos_token_id`:2 for open-end generation.\n"
          ]
        },
        {
          "output_type": "stream",
          "name": "stdout",
          "text": [
            "64\n"
          ]
        },
        {
          "output_type": "stream",
          "name": "stderr",
          "text": [
            "Setting `pad_token_id` to `eos_token_id`:2 for open-end generation.\n"
          ]
        },
        {
          "output_type": "stream",
          "name": "stdout",
          "text": [
            "65\n"
          ]
        },
        {
          "output_type": "stream",
          "name": "stderr",
          "text": [
            "EEEEE\n",
            "======================================================================\n",
            "ERROR: test_case_1 (builtins.TestCases)\n",
            "----------------------------------------------------------------------\n",
            "Traceback (most recent call last):\n",
            "  File \"<string>\", line 6, in test_case_1\n",
            "NameError: name 'pd' is not defined\n",
            "\n",
            "======================================================================\n",
            "ERROR: test_case_2 (builtins.TestCases)\n",
            "----------------------------------------------------------------------\n",
            "Traceback (most recent call last):\n",
            "  File \"<string>\", line 29, in test_case_2\n",
            "NameError: name 'pd' is not defined\n",
            "\n",
            "======================================================================\n",
            "ERROR: test_case_3 (builtins.TestCases)\n",
            "----------------------------------------------------------------------\n",
            "Traceback (most recent call last):\n",
            "  File \"<string>\", line 49, in test_case_3\n",
            "NameError: name 'pd' is not defined\n",
            "\n",
            "======================================================================\n",
            "ERROR: test_case_4 (builtins.TestCases)\n",
            "----------------------------------------------------------------------\n",
            "Traceback (most recent call last):\n",
            "  File \"<string>\", line 65, in test_case_4\n",
            "NameError: name 'pd' is not defined\n",
            "\n",
            "======================================================================\n",
            "ERROR: test_case_5 (builtins.TestCases)\n",
            "----------------------------------------------------------------------\n",
            "Traceback (most recent call last):\n",
            "  File \"<string>\", line 89, in test_case_5\n",
            "NameError: name 'pd' is not defined\n",
            "\n",
            "----------------------------------------------------------------------\n",
            "Ran 5 tests in 0.456s\n",
            "\n",
            "FAILED (errors=5)\n",
            "Setting `pad_token_id` to `eos_token_id`:2 for open-end generation.\n"
          ]
        },
        {
          "output_type": "stream",
          "name": "stdout",
          "text": [
            "66\n"
          ]
        },
        {
          "output_type": "stream",
          "name": "stderr",
          "text": [
            "Setting `pad_token_id` to `eos_token_id`:2 for open-end generation.\n"
          ]
        },
        {
          "output_type": "stream",
          "name": "stdout",
          "text": [
            "67\n"
          ]
        },
        {
          "output_type": "stream",
          "name": "stderr",
          "text": [
            "EEEEE\n",
            "======================================================================\n",
            "ERROR: test_case_1 (builtins.TestCases)\n",
            "----------------------------------------------------------------------\n",
            "Traceback (most recent call last):\n",
            "  File \"<string>\", line 8, in test_case_1\n",
            "NameError: name 'pd' is not defined\n",
            "\n",
            "======================================================================\n",
            "ERROR: test_case_2 (builtins.TestCases)\n",
            "----------------------------------------------------------------------\n",
            "Traceback (most recent call last):\n",
            "  File \"<string>\", line 21, in test_case_2\n",
            "NameError: name 'pd' is not defined\n",
            "\n",
            "======================================================================\n",
            "ERROR: test_case_3 (builtins.TestCases)\n",
            "----------------------------------------------------------------------\n",
            "Traceback (most recent call last):\n",
            "  File \"<string>\", line 33, in test_case_3\n",
            "NameError: name 'pd' is not defined\n",
            "\n",
            "======================================================================\n",
            "ERROR: test_case_4 (builtins.TestCases)\n",
            "----------------------------------------------------------------------\n",
            "Traceback (most recent call last):\n",
            "  File \"<string>\", line 59, in test_case_4\n",
            "NameError: name 'pd' is not defined\n",
            "\n",
            "======================================================================\n",
            "ERROR: test_case_5 (builtins.TestCases)\n",
            "----------------------------------------------------------------------\n",
            "Traceback (most recent call last):\n",
            "  File \"<string>\", line 81, in test_case_5\n",
            "NameError: name 'pd' is not defined\n",
            "\n",
            "----------------------------------------------------------------------\n",
            "Ran 5 tests in 0.175s\n",
            "\n",
            "FAILED (errors=5)\n",
            "Setting `pad_token_id` to `eos_token_id`:2 for open-end generation.\n"
          ]
        },
        {
          "output_type": "stream",
          "name": "stdout",
          "text": [
            "68\n"
          ]
        },
        {
          "output_type": "stream",
          "name": "stderr",
          "text": [
            "EEEEE\n",
            "======================================================================\n",
            "ERROR: test_case_1 (builtins.TestCases)\n",
            "----------------------------------------------------------------------\n",
            "Traceback (most recent call last):\n",
            "  File \"<string>\", line 6, in setUp\n",
            "NameError: name 'os' is not defined\n",
            "\n",
            "======================================================================\n",
            "ERROR: test_case_2 (builtins.TestCases)\n",
            "----------------------------------------------------------------------\n",
            "Traceback (most recent call last):\n",
            "  File \"<string>\", line 6, in setUp\n",
            "NameError: name 'os' is not defined\n",
            "\n",
            "======================================================================\n",
            "ERROR: test_case_3 (builtins.TestCases)\n",
            "----------------------------------------------------------------------\n",
            "Traceback (most recent call last):\n",
            "  File \"<string>\", line 6, in setUp\n",
            "NameError: name 'os' is not defined\n",
            "\n",
            "======================================================================\n",
            "ERROR: test_case_4 (builtins.TestCases)\n",
            "----------------------------------------------------------------------\n",
            "Traceback (most recent call last):\n",
            "  File \"<string>\", line 6, in setUp\n",
            "NameError: name 'os' is not defined\n",
            "\n",
            "======================================================================\n",
            "ERROR: test_case_5 (builtins.TestCases)\n",
            "----------------------------------------------------------------------\n",
            "Traceback (most recent call last):\n",
            "  File \"<string>\", line 6, in setUp\n",
            "NameError: name 'os' is not defined\n",
            "\n",
            "----------------------------------------------------------------------\n",
            "Ran 5 tests in 0.008s\n",
            "\n",
            "FAILED (errors=5)\n",
            "Setting `pad_token_id` to `eos_token_id`:2 for open-end generation.\n"
          ]
        },
        {
          "output_type": "stream",
          "name": "stdout",
          "text": [
            "69\n"
          ]
        },
        {
          "output_type": "stream",
          "name": "stderr",
          "text": [
            "Setting `pad_token_id` to `eos_token_id`:2 for open-end generation.\n"
          ]
        },
        {
          "output_type": "stream",
          "name": "stdout",
          "text": [
            "70\n"
          ]
        },
        {
          "output_type": "stream",
          "name": "stderr",
          "text": [
            "Setting `pad_token_id` to `eos_token_id`:2 for open-end generation.\n"
          ]
        },
        {
          "output_type": "stream",
          "name": "stdout",
          "text": [
            "71\n"
          ]
        },
        {
          "output_type": "stream",
          "name": "stderr",
          "text": [
            "EEEEE\n",
            "======================================================================\n",
            "ERROR: test_case_1 (builtins.TestCases)\n",
            "----------------------------------------------------------------------\n",
            "Traceback (most recent call last):\n",
            "  File \"<string>\", line 8, in setUp\n",
            "NameError: name 'os' is not defined\n",
            "\n",
            "======================================================================\n",
            "ERROR: test_case_2 (builtins.TestCases)\n",
            "----------------------------------------------------------------------\n",
            "Traceback (most recent call last):\n",
            "  File \"<string>\", line 8, in setUp\n",
            "NameError: name 'os' is not defined\n",
            "\n",
            "======================================================================\n",
            "ERROR: test_case_3 (builtins.TestCases)\n",
            "----------------------------------------------------------------------\n",
            "Traceback (most recent call last):\n",
            "  File \"<string>\", line 8, in setUp\n",
            "NameError: name 'os' is not defined\n",
            "\n",
            "======================================================================\n",
            "ERROR: test_case_4 (builtins.TestCases)\n",
            "----------------------------------------------------------------------\n",
            "Traceback (most recent call last):\n",
            "  File \"<string>\", line 8, in setUp\n",
            "NameError: name 'os' is not defined\n",
            "\n",
            "======================================================================\n",
            "ERROR: test_case_5 (builtins.TestCases)\n",
            "----------------------------------------------------------------------\n",
            "Traceback (most recent call last):\n",
            "  File \"<string>\", line 8, in setUp\n",
            "NameError: name 'os' is not defined\n",
            "\n",
            "----------------------------------------------------------------------\n",
            "Ran 5 tests in 0.005s\n",
            "\n",
            "FAILED (errors=5)\n",
            "Setting `pad_token_id` to `eos_token_id`:2 for open-end generation.\n"
          ]
        },
        {
          "output_type": "stream",
          "name": "stdout",
          "text": [
            "72\n"
          ]
        },
        {
          "output_type": "stream",
          "name": "stderr",
          "text": [
            "EEEEE\n",
            "======================================================================\n",
            "ERROR: test_case_1 (builtins.TestCases)\n",
            "----------------------------------------------------------------------\n",
            "Traceback (most recent call last):\n",
            "  File \"<string>\", line 8, in setUp\n",
            "NameError: name 'os' is not defined\n",
            "\n",
            "======================================================================\n",
            "ERROR: test_case_2 (builtins.TestCases)\n",
            "----------------------------------------------------------------------\n",
            "Traceback (most recent call last):\n",
            "  File \"<string>\", line 8, in setUp\n",
            "NameError: name 'os' is not defined\n",
            "\n",
            "======================================================================\n",
            "ERROR: test_case_3 (builtins.TestCases)\n",
            "----------------------------------------------------------------------\n",
            "Traceback (most recent call last):\n",
            "  File \"<string>\", line 8, in setUp\n",
            "NameError: name 'os' is not defined\n",
            "\n",
            "======================================================================\n",
            "ERROR: test_case_4 (builtins.TestCases)\n",
            "----------------------------------------------------------------------\n",
            "Traceback (most recent call last):\n",
            "  File \"<string>\", line 8, in setUp\n",
            "NameError: name 'os' is not defined\n",
            "\n",
            "======================================================================\n",
            "ERROR: test_case_5 (builtins.TestCases)\n",
            "----------------------------------------------------------------------\n",
            "Traceback (most recent call last):\n",
            "  File \"<string>\", line 8, in setUp\n",
            "NameError: name 'os' is not defined\n",
            "\n",
            "----------------------------------------------------------------------\n",
            "Ran 5 tests in 0.005s\n",
            "\n",
            "FAILED (errors=5)\n",
            "Setting `pad_token_id` to `eos_token_id`:2 for open-end generation.\n"
          ]
        },
        {
          "output_type": "stream",
          "name": "stdout",
          "text": [
            "73\n"
          ]
        },
        {
          "output_type": "stream",
          "name": "stderr",
          "text": [
            "Setting `pad_token_id` to `eos_token_id`:2 for open-end generation.\n"
          ]
        },
        {
          "output_type": "stream",
          "name": "stdout",
          "text": [
            "74\n"
          ]
        },
        {
          "output_type": "stream",
          "name": "stderr",
          "text": [
            "Setting `pad_token_id` to `eos_token_id`:2 for open-end generation.\n"
          ]
        },
        {
          "output_type": "stream",
          "name": "stdout",
          "text": [
            "75\n"
          ]
        },
        {
          "output_type": "stream",
          "name": "stderr",
          "text": [
            "Setting `pad_token_id` to `eos_token_id`:2 for open-end generation.\n"
          ]
        },
        {
          "output_type": "stream",
          "name": "stdout",
          "text": [
            "76\n"
          ]
        },
        {
          "output_type": "stream",
          "name": "stderr",
          "text": [
            "Setting `pad_token_id` to `eos_token_id`:2 for open-end generation.\n"
          ]
        },
        {
          "output_type": "stream",
          "name": "stdout",
          "text": [
            "77\n"
          ]
        },
        {
          "output_type": "stream",
          "name": "stderr",
          "text": [
            "Setting `pad_token_id` to `eos_token_id`:2 for open-end generation.\n"
          ]
        },
        {
          "output_type": "stream",
          "name": "stdout",
          "text": [
            "78\n"
          ]
        },
        {
          "output_type": "stream",
          "name": "stderr",
          "text": [
            "Setting `pad_token_id` to `eos_token_id`:2 for open-end generation.\n"
          ]
        },
        {
          "output_type": "stream",
          "name": "stdout",
          "text": [
            "79\n"
          ]
        },
        {
          "output_type": "stream",
          "name": "stderr",
          "text": [
            "Setting `pad_token_id` to `eos_token_id`:2 for open-end generation.\n"
          ]
        },
        {
          "output_type": "stream",
          "name": "stdout",
          "text": [
            "80\n"
          ]
        },
        {
          "output_type": "stream",
          "name": "stderr",
          "text": [
            "Setting `pad_token_id` to `eos_token_id`:2 for open-end generation.\n"
          ]
        },
        {
          "output_type": "stream",
          "name": "stdout",
          "text": [
            "81\n"
          ]
        },
        {
          "output_type": "stream",
          "name": "stderr",
          "text": [
            "EEEEEE\n",
            "======================================================================\n",
            "ERROR: test_app_creation (builtins.TestCases)\n",
            "Test if the function properly creates an app with given parameters.\n",
            "----------------------------------------------------------------------\n",
            "Traceback (most recent call last):\n",
            "  File \"<string>\", line 9, in setUp\n",
            "NameError: name 'tempfile' is not defined\n",
            "\n",
            "======================================================================\n",
            "ERROR: test_app_instance (builtins.TestCases)\n",
            "Test if the function returns a Flask app instance.\n",
            "----------------------------------------------------------------------\n",
            "Traceback (most recent call last):\n",
            "  File \"<string>\", line 9, in setUp\n",
            "NameError: name 'tempfile' is not defined\n",
            "\n",
            "======================================================================\n",
            "ERROR: test_home_route (builtins.TestCases)\n",
            "Test if the '/' route is defined correctly.\n",
            "----------------------------------------------------------------------\n",
            "Traceback (most recent call last):\n",
            "  File \"<string>\", line 9, in setUp\n",
            "NameError: name 'tempfile' is not defined\n",
            "\n",
            "======================================================================\n",
            "ERROR: test_logging_info_called_with_correct_arguments (builtins.TestCases)\n",
            "Test if logging.info is called with the correct JSON data.\n",
            "----------------------------------------------------------------------\n",
            "Traceback (most recent call last):\n",
            "  File \"<string>\", line 9, in setUp\n",
            "NameError: name 'tempfile' is not defined\n",
            "\n",
            "======================================================================\n",
            "ERROR: test_logging_request_data (builtins.TestCases)\n",
            "Test if logging correctly logs POST request data.\n",
            "----------------------------------------------------------------------\n",
            "Traceback (most recent call last):\n",
            "  File \"<string>\", line 9, in setUp\n",
            "NameError: name 'tempfile' is not defined\n",
            "\n",
            "======================================================================\n",
            "ERROR: test_template_folder_configuration (builtins.TestCases)\n",
            "Test if the template folder is correctly configured.\n",
            "----------------------------------------------------------------------\n",
            "Traceback (most recent call last):\n",
            "  File \"<string>\", line 9, in setUp\n",
            "NameError: name 'tempfile' is not defined\n",
            "\n",
            "----------------------------------------------------------------------\n",
            "Ran 6 tests in 0.007s\n",
            "\n",
            "FAILED (errors=6)\n",
            "Setting `pad_token_id` to `eos_token_id`:2 for open-end generation.\n"
          ]
        },
        {
          "output_type": "stream",
          "name": "stdout",
          "text": [
            "82\n"
          ]
        },
        {
          "output_type": "stream",
          "name": "stderr",
          "text": [
            "Setting `pad_token_id` to `eos_token_id`:2 for open-end generation.\n"
          ]
        },
        {
          "output_type": "stream",
          "name": "stdout",
          "text": [
            "83\n"
          ]
        },
        {
          "output_type": "stream",
          "name": "stderr",
          "text": [
            "Setting `pad_token_id` to `eos_token_id`:2 for open-end generation.\n"
          ]
        },
        {
          "output_type": "stream",
          "name": "stdout",
          "text": [
            "84\n"
          ]
        },
        {
          "output_type": "stream",
          "name": "stderr",
          "text": [
            "Setting `pad_token_id` to `eos_token_id`:2 for open-end generation.\n"
          ]
        },
        {
          "output_type": "stream",
          "name": "stdout",
          "text": [
            "85\n"
          ]
        },
        {
          "output_type": "stream",
          "name": "stderr",
          "text": [
            "EE.EE.EEEEE.\n",
            "======================================================================\n",
            "ERROR: test_custom_parameters (builtins.TestCases)\n",
            "----------------------------------------------------------------------\n",
            "Traceback (most recent call last):\n",
            "  File \"<string>\", line 18, in test_custom_parameters\n",
            "TypeError: object of type 'NoneType' has no len()\n",
            "\n",
            "======================================================================\n",
            "ERROR: test_empty_product_list (builtins.TestCases)\n",
            "Test that the function can handle an empty product list.\n",
            "----------------------------------------------------------------------\n",
            "Traceback (most recent call last):\n",
            "  File \"<string>\", line 45, in test_empty_product_list\n",
            "AttributeError: 'NoneType' object has no attribute 'empty'\n",
            "\n",
            "======================================================================\n",
            "ERROR: test_new_custom_parameters (builtins.TestCases)\n",
            "----------------------------------------------------------------------\n",
            "Traceback (most recent call last):\n",
            "  File \"<string>\", line 22, in test_new_custom_parameters\n",
            "AttributeError: 'NoneType' object has no attribute 'apply'\n",
            "\n",
            "======================================================================\n",
            "ERROR: test_number_of_rows (builtins.TestCases)\n",
            "----------------------------------------------------------------------\n",
            "Traceback (most recent call last):\n",
            "  File \"<string>\", line 10, in test_number_of_rows\n",
            "TypeError: object of type 'NoneType' has no len()\n",
            "\n",
            "======================================================================\n",
            "ERROR: test_profit_margin_validation (builtins.TestCases)\n",
            "Test that an error is raised if profit_margin_min is greater than or equal to profit_margin_max.\n",
            "----------------------------------------------------------------------\n",
            "Traceback (most recent call last):\n",
            "  File \"<string>\", line 33, in test_profit_margin_validation\n",
            "  File \"<string>\", line 53, in task_func\n",
            "TypeError: profit_margin_min and profit_margin_max must be numeric\n",
            "\n",
            "======================================================================\n",
            "ERROR: test_random_reproducibility (builtins.TestCases)\n",
            "----------------------------------------------------------------------\n",
            "Traceback (most recent call last):\n",
            "  File \"<string>\", line 7, in test_random_reproducibility\n",
            "NameError: name 'pd' is not defined\n",
            "\n",
            "======================================================================\n",
            "ERROR: test_sales_bounds_validation (builtins.TestCases)\n",
            "Test that an error is raised if sales_lower is greater than sales_upper.\n",
            "----------------------------------------------------------------------\n",
            "Traceback (most recent call last):\n",
            "  File \"<string>\", line 29, in test_sales_bounds_validation\n",
            "  File \"<string>\", line 49, in task_func\n",
            "TypeError: sales_lower and sales_upper must be numeric\n",
            "\n",
            "======================================================================\n",
            "ERROR: test_single_product_reproducibility (builtins.TestCases)\n",
            "Test that the function generates consistent results for a single product across multiple runs.\n",
            "----------------------------------------------------------------------\n",
            "Traceback (most recent call last):\n",
            "  File \"<string>\", line 54, in test_single_product_reproducibility\n",
            "NameError: name 'pd' is not defined\n",
            "\n",
            "======================================================================\n",
            "ERROR: test_sorting_by_profit (builtins.TestCases)\n",
            "----------------------------------------------------------------------\n",
            "Traceback (most recent call last):\n",
            "  File \"<string>\", line 13, in test_sorting_by_profit\n",
            "TypeError: 'NoneType' object is not subscriptable\n",
            "\n",
            "----------------------------------------------------------------------\n",
            "Ran 12 tests in 0.018s\n",
            "\n",
            "FAILED (errors=9)\n",
            "Setting `pad_token_id` to `eos_token_id`:2 for open-end generation.\n"
          ]
        },
        {
          "output_type": "stream",
          "name": "stdout",
          "text": [
            "86\n"
          ]
        },
        {
          "output_type": "stream",
          "name": "stderr",
          "text": [
            "Setting `pad_token_id` to `eos_token_id`:2 for open-end generation.\n"
          ]
        },
        {
          "output_type": "stream",
          "name": "stdout",
          "text": [
            "87\n"
          ]
        },
        {
          "output_type": "stream",
          "name": "stderr",
          "text": [
            "EEEEEE\n",
            "======================================================================\n",
            "ERROR: test_dataframe_columns (builtins.TestCases)\n",
            "----------------------------------------------------------------------\n",
            "Traceback (most recent call last):\n",
            "  File \"<string>\", line 11, in test_dataframe_columns\n",
            "  File \"<string>\", line 40, in task_func\n",
            "NameError: name 'plt' is not defined\n",
            "\n",
            "======================================================================\n",
            "ERROR: test_dataframe_value (builtins.TestCases)\n",
            "----------------------------------------------------------------------\n",
            "Traceback (most recent call last):\n",
            "  File \"<string>\", line 26, in test_dataframe_value\n",
            "  File \"<string>\", line 40, in task_func\n",
            "NameError: name 'plt' is not defined\n",
            "\n",
            "======================================================================\n",
            "ERROR: test_different_seeds_produce_different_scores (builtins.TestCases)\n",
            "----------------------------------------------------------------------\n",
            "Traceback (most recent call last):\n",
            "  File \"<string>\", line 21, in test_different_seeds_produce_different_scores\n",
            "  File \"<string>\", line 40, in task_func\n",
            "NameError: name 'plt' is not defined\n",
            "\n",
            "======================================================================\n",
            "ERROR: test_plot_labels (builtins.TestCases)\n",
            "----------------------------------------------------------------------\n",
            "Traceback (most recent call last):\n",
            "  File \"<string>\", line 17, in test_plot_labels\n",
            "  File \"<string>\", line 40, in task_func\n",
            "NameError: name 'plt' is not defined\n",
            "\n",
            "======================================================================\n",
            "ERROR: test_random_reproducibility (builtins.TestCases)\n",
            "----------------------------------------------------------------------\n",
            "Traceback (most recent call last):\n",
            "  File \"<string>\", line 7, in test_random_reproducibility\n",
            "  File \"<string>\", line 40, in task_func\n",
            "NameError: name 'plt' is not defined\n",
            "\n",
            "======================================================================\n",
            "ERROR: test_scores_within_range (builtins.TestCases)\n",
            "----------------------------------------------------------------------\n",
            "Traceback (most recent call last):\n",
            "  File \"<string>\", line 14, in test_scores_within_range\n",
            "  File \"<string>\", line 40, in task_func\n",
            "NameError: name 'plt' is not defined\n",
            "\n",
            "----------------------------------------------------------------------\n",
            "Ran 6 tests in 0.015s\n",
            "\n",
            "FAILED (errors=6)\n",
            "Setting `pad_token_id` to `eos_token_id`:2 for open-end generation.\n"
          ]
        },
        {
          "output_type": "stream",
          "name": "stdout",
          "text": [
            "88\n"
          ]
        },
        {
          "output_type": "stream",
          "name": "stderr",
          "text": [
            ".EE.EF\n",
            "======================================================================\n",
            "ERROR: test_different_seeds (builtins.TestCases)\n",
            "----------------------------------------------------------------------\n",
            "Traceback (most recent call last):\n",
            "  File \"<string>\", line 27, in test_different_seeds\n",
            "NameError: name 'pd' is not defined\n",
            "\n",
            "======================================================================\n",
            "ERROR: test_random_reproducibility (builtins.TestCases)\n",
            "----------------------------------------------------------------------\n",
            "Traceback (most recent call last):\n",
            "  File \"<string>\", line 11, in test_random_reproducibility\n",
            "NameError: name 'pd' is not defined\n",
            "\n",
            "======================================================================\n",
            "ERROR: test_sort_order (builtins.TestCases)\n",
            "----------------------------------------------------------------------\n",
            "Traceback (most recent call last):\n",
            "  File \"<string>\", line 22, in test_sort_order\n",
            "NameError: name 'pd' is not defined\n",
            "\n",
            "======================================================================\n",
            "FAIL: test_values (builtins.TestCases)\n",
            "----------------------------------------------------------------------\n",
            "Traceback (most recent call last):\n",
            "  File \"<string>\", line 34, in test_values\n",
            "AssertionError: Lists differ: ['iPhone,4', 'iPad,1', 'Macbook,3', 'Airpods,3', 'Apple Watch,5'] != ['Apple Watch,5', 'iPhone,4', 'Macbook,3', 'Airpods,3', 'iPad,1']\n",
            "\n",
            "First differing element 0:\n",
            "'iPhone,4'\n",
            "'Apple Watch,5'\n",
            "\n",
            "- ['iPhone,4', 'iPad,1', 'Macbook,3', 'Airpods,3', 'Apple Watch,5']\n",
            "+ ['Apple Watch,5', 'iPhone,4', 'Macbook,3', 'Airpods,3', 'iPad,1'] : DataFrame contents should match the expected output\n",
            "\n",
            "----------------------------------------------------------------------\n",
            "Ran 6 tests in 0.026s\n",
            "\n",
            "FAILED (failures=1, errors=3)\n",
            "Setting `pad_token_id` to `eos_token_id`:2 for open-end generation.\n"
          ]
        },
        {
          "output_type": "stream",
          "name": "stdout",
          "text": [
            "89\n"
          ]
        },
        {
          "output_type": "stream",
          "name": "stderr",
          "text": [
            "EEEEE\n",
            "======================================================================\n",
            "ERROR: test_dataframe_structure (builtins.TestCases)\n",
            "----------------------------------------------------------------------\n",
            "Traceback (most recent call last):\n",
            "  File \"<string>\", line 4, in setUp\n",
            "NameError: name 'datetime' is not defined\n",
            "\n",
            "======================================================================\n",
            "ERROR: test_different_seeds_produce_different_data (builtins.TestCases)\n",
            "----------------------------------------------------------------------\n",
            "Traceback (most recent call last):\n",
            "  File \"<string>\", line 4, in setUp\n",
            "NameError: name 'datetime' is not defined\n",
            "\n",
            "======================================================================\n",
            "ERROR: test_random_reproducibility (builtins.TestCases)\n",
            "----------------------------------------------------------------------\n",
            "Traceback (most recent call last):\n",
            "  File \"<string>\", line 4, in setUp\n",
            "NameError: name 'datetime' is not defined\n",
            "\n",
            "======================================================================\n",
            "ERROR: test_sales_values_range (builtins.TestCases)\n",
            "----------------------------------------------------------------------\n",
            "Traceback (most recent call last):\n",
            "  File \"<string>\", line 4, in setUp\n",
            "NameError: name 'datetime' is not defined\n",
            "\n",
            "======================================================================\n",
            "ERROR: test_values (builtins.TestCases)\n",
            "----------------------------------------------------------------------\n",
            "Traceback (most recent call last):\n",
            "  File \"<string>\", line 4, in setUp\n",
            "NameError: name 'datetime' is not defined\n",
            "\n",
            "----------------------------------------------------------------------\n",
            "Ran 5 tests in 0.006s\n",
            "\n",
            "FAILED (errors=5)\n",
            "Setting `pad_token_id` to `eos_token_id`:2 for open-end generation.\n"
          ]
        },
        {
          "output_type": "stream",
          "name": "stdout",
          "text": [
            "90\n"
          ]
        },
        {
          "output_type": "stream",
          "name": "stderr",
          "text": [
            "EEEEEE\n",
            "======================================================================\n",
            "ERROR: test_data_without_outliers (builtins.TestCases)\n",
            "Test if outliers are correctly removed.\n",
            "----------------------------------------------------------------------\n",
            "Traceback (most recent call last):\n",
            "  File \"<string>\", line 7, in setUp\n",
            "NameError: name 'np' is not defined\n",
            "\n",
            "======================================================================\n",
            "ERROR: test_no_change_in_data_dimension (builtins.TestCases)\n",
            "Test if the dimension of the data remains unchanged.\n",
            "----------------------------------------------------------------------\n",
            "Traceback (most recent call last):\n",
            "  File \"<string>\", line 7, in setUp\n",
            "NameError: name 'np' is not defined\n",
            "\n",
            "======================================================================\n",
            "ERROR: test_no_plotting (builtins.TestCases)\n",
            "Test that the plotting function is called but does not display plots during testing.\n",
            "----------------------------------------------------------------------\n",
            "Traceback (most recent call last):\n",
            "  File \"<string>\", line 7, in setUp\n",
            "NameError: name 'np' is not defined\n",
            "\n",
            "======================================================================\n",
            "ERROR: test_original_data_unchanged (builtins.TestCases)\n",
            "Test if the original data remains unchanged.\n",
            "----------------------------------------------------------------------\n",
            "Traceback (most recent call last):\n",
            "  File \"<string>\", line 7, in setUp\n",
            "NameError: name 'np' is not defined\n",
            "\n",
            "======================================================================\n",
            "ERROR: test_plot_titles (builtins.TestCases)\n",
            "Test if the plot titles match the requirement in the docstring.\n",
            "----------------------------------------------------------------------\n",
            "Traceback (most recent call last):\n",
            "  File \"<string>\", line 7, in setUp\n",
            "NameError: name 'np' is not defined\n",
            "\n",
            "======================================================================\n",
            "ERROR: test_return_type (builtins.TestCases)\n",
            "Test if the function returns a tuple of correct types.\n",
            "----------------------------------------------------------------------\n",
            "Traceback (most recent call last):\n",
            "  File \"<string>\", line 7, in setUp\n",
            "NameError: name 'np' is not defined\n",
            "\n",
            "----------------------------------------------------------------------\n",
            "Ran 6 tests in 0.006s\n",
            "\n",
            "FAILED (errors=6)\n",
            "Setting `pad_token_id` to `eos_token_id`:2 for open-end generation.\n"
          ]
        },
        {
          "output_type": "stream",
          "name": "stdout",
          "text": [
            "91\n"
          ]
        },
        {
          "output_type": "stream",
          "name": "stderr",
          "text": [
            "EEEEEE\n",
            "======================================================================\n",
            "ERROR: test_correct_neighbors (builtins.TestCases)\n",
            "----------------------------------------------------------------------\n",
            "Traceback (most recent call last):\n",
            "  File \"<string>\", line 5, in setUp\n",
            "NameError: name 'pd' is not defined\n",
            "\n",
            "======================================================================\n",
            "ERROR: test_correct_number_of_neighbors (builtins.TestCases)\n",
            "----------------------------------------------------------------------\n",
            "Traceback (most recent call last):\n",
            "  File \"<string>\", line 5, in setUp\n",
            "NameError: name 'pd' is not defined\n",
            "\n",
            "======================================================================\n",
            "ERROR: test_invalid_k_value_negative (builtins.TestCases)\n",
            "----------------------------------------------------------------------\n",
            "Traceback (most recent call last):\n",
            "  File \"<string>\", line 5, in setUp\n",
            "NameError: name 'pd' is not defined\n",
            "\n",
            "======================================================================\n",
            "ERROR: test_invalid_k_value_not_integer (builtins.TestCases)\n",
            "----------------------------------------------------------------------\n",
            "Traceback (most recent call last):\n",
            "  File \"<string>\", line 5, in setUp\n",
            "NameError: name 'pd' is not defined\n",
            "\n",
            "======================================================================\n",
            "ERROR: test_large_k_value (builtins.TestCases)\n",
            "----------------------------------------------------------------------\n",
            "Traceback (most recent call last):\n",
            "  File \"<string>\", line 5, in setUp\n",
            "NameError: name 'pd' is not defined\n",
            "\n",
            "======================================================================\n",
            "ERROR: test_zero_k_value (builtins.TestCases)\n",
            "----------------------------------------------------------------------\n",
            "Traceback (most recent call last):\n",
            "  File \"<string>\", line 5, in setUp\n",
            "NameError: name 'pd' is not defined\n",
            "\n",
            "----------------------------------------------------------------------\n",
            "Ran 6 tests in 0.006s\n",
            "\n",
            "FAILED (errors=6)\n",
            "Setting `pad_token_id` to `eos_token_id`:2 for open-end generation.\n"
          ]
        },
        {
          "output_type": "stream",
          "name": "stdout",
          "text": [
            "92\n"
          ]
        },
        {
          "output_type": "stream",
          "name": "stderr",
          "text": [
            "EEEEEE\n",
            "======================================================================\n",
            "ERROR: test_empty_dataframe (builtins.TestCases)\n",
            "----------------------------------------------------------------------\n",
            "Traceback (most recent call last):\n",
            "  File \"<string>\", line 5, in setUp\n",
            "NameError: name 'pd' is not defined\n",
            "\n",
            "======================================================================\n",
            "ERROR: test_invalid_columns (builtins.TestCases)\n",
            "----------------------------------------------------------------------\n",
            "Traceback (most recent call last):\n",
            "  File \"<string>\", line 5, in setUp\n",
            "NameError: name 'pd' is not defined\n",
            "\n",
            "======================================================================\n",
            "ERROR: test_plot_axes (builtins.TestCases)\n",
            "----------------------------------------------------------------------\n",
            "Traceback (most recent call last):\n",
            "  File \"<string>\", line 5, in setUp\n",
            "NameError: name 'pd' is not defined\n",
            "\n",
            "======================================================================\n",
            "ERROR: test_regression_results (builtins.TestCases)\n",
            "----------------------------------------------------------------------\n",
            "Traceback (most recent call last):\n",
            "  File \"<string>\", line 5, in setUp\n",
            "NameError: name 'pd' is not defined\n",
            "\n",
            "======================================================================\n",
            "ERROR: test_return_values (builtins.TestCases)\n",
            "----------------------------------------------------------------------\n",
            "Traceback (most recent call last):\n",
            "  File \"<string>\", line 5, in setUp\n",
            "NameError: name 'pd' is not defined\n",
            "\n",
            "======================================================================\n",
            "ERROR: test_single_point_regression (builtins.TestCases)\n",
            "----------------------------------------------------------------------\n",
            "Traceback (most recent call last):\n",
            "  File \"<string>\", line 5, in setUp\n",
            "NameError: name 'pd' is not defined\n",
            "\n",
            "----------------------------------------------------------------------\n",
            "Ran 6 tests in 0.006s\n",
            "\n",
            "FAILED (errors=6)\n",
            "Setting `pad_token_id` to `eos_token_id`:2 for open-end generation.\n"
          ]
        },
        {
          "output_type": "stream",
          "name": "stdout",
          "text": [
            "93\n"
          ]
        },
        {
          "output_type": "stream",
          "name": "stderr",
          "text": [
            "Setting `pad_token_id` to `eos_token_id`:2 for open-end generation.\n"
          ]
        },
        {
          "output_type": "stream",
          "name": "stdout",
          "text": [
            "94\n"
          ]
        },
        {
          "output_type": "stream",
          "name": "stderr",
          "text": [
            "Setting `pad_token_id` to `eos_token_id`:2 for open-end generation.\n"
          ]
        },
        {
          "output_type": "stream",
          "name": "stdout",
          "text": [
            "95\n"
          ]
        },
        {
          "output_type": "stream",
          "name": "stderr",
          "text": [
            "Setting `pad_token_id` to `eos_token_id`:2 for open-end generation.\n"
          ]
        },
        {
          "output_type": "stream",
          "name": "stdout",
          "text": [
            "96\n"
          ]
        },
        {
          "output_type": "stream",
          "name": "stderr",
          "text": [
            "Setting `pad_token_id` to `eos_token_id`:2 for open-end generation.\n"
          ]
        },
        {
          "output_type": "stream",
          "name": "stdout",
          "text": [
            "97\n"
          ]
        },
        {
          "output_type": "stream",
          "name": "stderr",
          "text": [
            "Setting `pad_token_id` to `eos_token_id`:2 for open-end generation.\n"
          ]
        },
        {
          "output_type": "stream",
          "name": "stdout",
          "text": [
            "98\n"
          ]
        },
        {
          "output_type": "stream",
          "name": "stderr",
          "text": [
            "Setting `pad_token_id` to `eos_token_id`:2 for open-end generation.\n"
          ]
        },
        {
          "output_type": "stream",
          "name": "stdout",
          "text": [
            "99\n"
          ]
        },
        {
          "output_type": "stream",
          "name": "stderr",
          "text": [
            "EEEEEEE\n",
            "======================================================================\n",
            "ERROR: test_deterministic_output (builtins.TestCases)\n",
            "Test the function with a predefined seed for reproducibility.\n",
            "----------------------------------------------------------------------\n",
            "Traceback (most recent call last):\n",
            "  File \"<string>\", line 6, in setUp\n",
            "NameError: name 'random' is not defined\n",
            "\n",
            "======================================================================\n",
            "ERROR: test_list_length (builtins.TestCases)\n",
            "Test that the length of the list is not greater than the number of unique characters.\n",
            "----------------------------------------------------------------------\n",
            "Traceback (most recent call last):\n",
            "  File \"<string>\", line 6, in setUp\n",
            "NameError: name 'random' is not defined\n",
            "\n",
            "======================================================================\n",
            "ERROR: test_return_type (builtins.TestCases)\n",
            "Test that the function returns a list.\n",
            "----------------------------------------------------------------------\n",
            "Traceback (most recent call last):\n",
            "  File \"<string>\", line 6, in setUp\n",
            "NameError: name 'random' is not defined\n",
            "\n",
            "======================================================================\n",
            "ERROR: test_specific_character_count (builtins.TestCases)\n",
            "Test if a specific character count is as expected based on the seed.\n",
            "----------------------------------------------------------------------\n",
            "Traceback (most recent call last):\n",
            "  File \"<string>\", line 6, in setUp\n",
            "NameError: name 'random' is not defined\n",
            "\n",
            "======================================================================\n",
            "ERROR: test_tuple_structure (builtins.TestCases)\n",
            "Test that each element in the list is a tuple with two elements.\n",
            "----------------------------------------------------------------------\n",
            "Traceback (most recent call last):\n",
            "  File \"<string>\", line 6, in setUp\n",
            "NameError: name 'random' is not defined\n",
            "\n",
            "======================================================================\n",
            "ERROR: test_zero_length (builtins.TestCases)\n",
            "Test the function with string_length of zero returns empty strings but counts them.\n",
            "----------------------------------------------------------------------\n",
            "Traceback (most recent call last):\n",
            "  File \"<string>\", line 6, in setUp\n",
            "NameError: name 'random' is not defined\n",
            "\n",
            "======================================================================\n",
            "ERROR: test_zero_strings (builtins.TestCases)\n",
            "Test the function returns an empty list when no strings are generated.\n",
            "----------------------------------------------------------------------\n",
            "Traceback (most recent call last):\n",
            "  File \"<string>\", line 6, in setUp\n",
            "NameError: name 'random' is not defined\n",
            "\n",
            "----------------------------------------------------------------------\n",
            "Ran 7 tests in 0.007s\n",
            "\n",
            "FAILED (errors=7)\n",
            "Setting `pad_token_id` to `eos_token_id`:2 for open-end generation.\n"
          ]
        },
        {
          "output_type": "stream",
          "name": "stdout",
          "text": [
            "100\n"
          ]
        },
        {
          "output_type": "display_data",
          "data": {
            "text/plain": [
              "<Figure size 640x480 with 5 Axes>"
            ],
            "image/png": "[encoded data removed]"
          },
          "metadata": {}
        }
      ],
      "source": [
        "generated_scores = {name: [] for name in model_names}\n",
        "i = 0\n",
        "for example in dataset:\n",
        "    i+=1\n",
        "    print(i)\n",
        "    prompt = example[\"complete_prompt\"]\n",
        "    print(\"Prompt:\" + prompt)\n",
        "    print(\"Output:\")\n",
        "    for model_name in model_names:\n",
        "        generated_score = generate_score(prompt, models[model_name], tokenizers[model_name], example)\n",
        "        generated_scores[model_name].append(generated_score)"
      ]
    },
    {
      "cell_type": "markdown",
      "metadata": {
        "id": "NDdApHiZiS3_"
      },
      "source": [
        "## ***Evaluation***"
      ]
    },
    {
      "cell_type": "code",
      "execution_count": null,
      "metadata": {
        "id": "ldtbV07YiViU"
      },
      "outputs": [],
      "source": [
        "# # Evaluation Setup with BLEU (or CodeBLEU if available)\n",
        "# bleu_metric = evaluate.load(\"bleu\")\n",
        "\n",
        "# # Prepare reference code for evaluation\n",
        "# references = [example[\"canonical_solution\"] for example in dataset]\n",
        "\n",
        "# # Evaluate each model's generated code against the reference code\n",
        "# evaluation_scores = {}\n",
        "# for model_name, codes in generated_codes.items():\n",
        "#     bleu_score = bleu_metric.compute(predictions=codes, references=references)\n",
        "#     evaluation_scores[model_name] = bleu_score[\"bleu\"]\n",
        "#     print(f\"{model_name} BLEU Score:\", bleu_score[\"bleu\"])\n",
        "\n",
        "# # Print final evaluation summary\n",
        "# print(\"\\n=== Evaluation Summary ===\")\n",
        "# for model_name, score in evaluation_scores.items():\n",
        "#     print(f\"{model_name} BLEU Score: {score:.4f}\")"
      ]
    },
    {
      "cell_type": "code",
      "execution_count": 9,
      "metadata": {
        "id": "-IEaTLj8Suth"
      },
      "outputs": [],
      "source": [
        "import unittest\n",
        "from unittest.mock import patch\n",
        "\n",
        "def evaluate_code_generation(generated_code, test_cases_code, libraries):\n",
        "    \"\"\"\n",
        "    Dynamically evaluates the generated code based on pass ratio and executability.\n",
        "\n",
        "    Parameters:\n",
        "    - generated_code: A string containing the code to be evaluated.\n",
        "    - test_cases_code: A string containing the test cases to be executed.\n",
        "    - libraries: A list of library names to import and make available in the execution context.\n",
        "\n",
        "    Returns:\n",
        "    - A dictionary containing 'pass_ratio', 'executability', and 'errors'.\n",
        "    \"\"\"\n",
        "\n",
        "    # Prepare a local namespace for executing the generated code\n",
        "    local_namespace = {}\n",
        "    error_messages = []\n",
        "\n",
        "    # Import libraries dynamically and add them to the namespace\n",
        "    for lib in libraries:\n",
        "        try:\n",
        "            # Import each library and add it to the local namespace\n",
        "            local_namespace[lib] = __import__(lib)\n",
        "        except ImportError as e:\n",
        "            error_messages.append(f\"Error importing {lib}: {e}\")\n",
        "            return {\n",
        "                'pass_ratio': 0,\n",
        "                'executability': False,\n",
        "                'errors': error_messages\n",
        "            }\n",
        "\n",
        "    try:\n",
        "        # Execute the generated code in the provided namespace\n",
        "        exec(generated_code, local_namespace, local_namespace)\n",
        "        executability = True\n",
        "    except Exception as e:\n",
        "        error_messages.append(f\"Execution Error: {e}\")\n",
        "        executability = False\n",
        "\n",
        "    if not executability:\n",
        "        return {\n",
        "            'pass_ratio': 0,\n",
        "            'executability': executability,\n",
        "            'errors': error_messages\n",
        "        }\n",
        "\n",
        "    # Add task_func to local_namespace so it can be accessed by tests\n",
        "    task_func = local_namespace.get('task_func')\n",
        "\n",
        "    if not task_func:\n",
        "        error_messages.append(\"task_func is not defined in the generated code.\")\n",
        "        return {\n",
        "            'pass_ratio': 0,\n",
        "            'executability': False,\n",
        "            'errors': error_messages\n",
        "        }\n",
        "\n",
        "    # Dynamically create a TestCase class from the provided test cases code\n",
        "    try:\n",
        "        exec(test_cases_code, {'task_func': task_func, 'patch': patch}, local_namespace)\n",
        "    except Exception as e:\n",
        "        error_messages.append(f\"Test case execution error: {e}\")\n",
        "        return {\n",
        "            'pass_ratio': 0,\n",
        "            'executability': False,\n",
        "            'errors': error_messages\n",
        "        }\n",
        "\n",
        "    # Extract the TestCase class from the local namespace\n",
        "    TestClass = local_namespace.get('TestCases')\n",
        "\n",
        "    if not TestClass:\n",
        "        error_messages.append(\"TestCases class not found in provided test cases code.\")\n",
        "        return {\n",
        "            'pass_ratio': 0,\n",
        "            'executability': False,\n",
        "            'errors': error_messages\n",
        "        }\n",
        "\n",
        "    # Define a custom test suite\n",
        "    class CustomTestSuite(unittest.TestSuite):\n",
        "        def run(self, result, debug=False):\n",
        "            super().run(result, debug)\n",
        "            return result\n",
        "\n",
        "    # Run the tests using unittest framework\n",
        "    suite = CustomTestSuite()\n",
        "    suite.addTest(unittest.makeSuite(TestClass))\n",
        "\n",
        "    runner = unittest.TextTestRunner()\n",
        "\n",
        "    # Capture results\n",
        "    result = runner.run(suite)\n",
        "\n",
        "    # Calculate pass ratio\n",
        "    pass_ratio = (result.testsRun - len(result.failures) - len(result.errors)) / result.testsRun if result.testsRun > 0 else 0\n",
        "\n",
        "    # Collect errors from test results\n",
        "    for failure in result.failures + result.errors:\n",
        "        error_messages.append(str(failure))\n",
        "\n",
        "    # Clear the local namespace after execution\n",
        "    local_namespace.clear()\n",
        "\n",
        "    return {\n",
        "        'pass_ratio': pass_ratio,\n",
        "        'executability': len(result.errors) == 0,\n",
        "        'errors': error_messages\n",
        "    }"
      ]
    },
    {
      "cell_type": "code",
      "execution_count": null,
      "metadata": {
        "id": "Lwqto_sCSuth"
      },
      "outputs": [],
      "source": [
        "# Example usage with dynamic inputs and libraries list\n",
        "generated_code = \"\"\"\n",
        "import itertools\n",
        "from random import shuffle\n",
        "\n",
        "def task_func(numbers=list(range(1, 11))):\n",
        "    permutations = list(itertools.permutations(numbers))\n",
        "    sum_diffs = 0\n",
        "\n",
        "    for perm in permutations:\n",
        "        perm = list(perm)\n",
        "        shuffle(perm)\n",
        "        diffs = [abs(perm[i] - perm[i+1]) for i in range(len(perm)-1)]\n",
        "        sum_diffs += sum(diffs)\n",
        "\n",
        "    avg_sum_diffs = sum_diffs / len(permutations) if permutations else 0\n",
        "\n",
        "    return avg_sum_diffs\n",
        "\"\"\"\n",
        "\n",
        "test_cases_code = \"\"\"\n",
        "import unittest\n",
        "\n",
        "class TestCases(unittest.TestCase):\n",
        "\n",
        "    def test_default_numbers(self):\n",
        "        result = task_func()\n",
        "        self.assertIsInstance(result, float)\n",
        "        self.assertGreater(result, 0)\n",
        "\n",
        "# Additional tests omitted for brevity...\n",
        "\"\"\"\n",
        "\n",
        "# List of libraries to import and use within exec()\n",
        "libraries_to_import = []\n",
        "\n",
        "# Evaluate the generated code with dynamic inputs and specified libraries\n",
        "evaluation_result = evaluate_code_generation(generated_code, test_cases_code, libraries_to_import)\n",
        "print(evaluation_result)"
      ]
    },
    {
      "cell_type": "code",
      "execution_count": null,
      "metadata": {
        "id": "Mnacfla3Suth"
      },
      "outputs": [],
      "source": [
        "#TODO : Implement a function to average teh scores from each list in generate_score which is sthe final score of the model"
      ]
    },
    {
      "cell_type": "code",
      "source": [
        "average = sum(generated_scores['CodeLlama']) / len(generated_scores['CodeLlama'])"
      ],
      "metadata": {
        "id": "anTTjKuU2gVS"
      },
      "execution_count": 12,
      "outputs": []
    },
    {
      "cell_type": "code",
      "source": [
        "average"
      ],
      "metadata": {
        "colab": {
          "base_uri": "https://localhost:8080/"
        },
        "id": "h9PigZ_LFRtN",
        "outputId": "a54f742b-3183-419b-a0fe-3bb1d3dec64c"
      },
      "execution_count": 13,
      "outputs": [
        {
          "output_type": "execute_result",
          "data": {
            "text/plain": [
              "0.05616666666666667"
            ]
          },
          "metadata": {},
          "execution_count": 13
        }
      ]
    }
  ],
  "metadata": {
    "colab": {
      "provenance": []
    },
    "kernelspec": {
      "display_name": "Python 3",
      "name": "python3"
    },
    "language_info": {
      "name": "python"
    },
    "widgets": {
      "application/vnd.jupyter.widget-state+json": {
        "f4eedd63d8ea4c14a8b35316063a11db": {
          "model_module": "@jupyter-widgets/controls",
          "model_name": "HBoxModel",
          "model_module_version": "1.5.0",
          "state": {
            "_dom_classes": [],
            "_model_module": "@jupyter-widgets/controls",
            "_model_module_version": "1.5.0",
            "_model_name": "HBoxModel",
            "_view_count": null,
            "_view_module": "@jupyter-widgets/controls",
            "_view_module_version": "1.5.0",
            "_view_name": "HBoxView",
            "box_style": "",
            "children": [
              "IPY_MODEL_1fa2612a9c6a4628941cf92e5bdc67e0",
              "IPY_MODEL_9e0d090b21d4477ead4c63fb83822852",
              "IPY_MODEL_a43710c3299843658f036b1ae170915b"
            ],
            "layout": "IPY_MODEL_41e12ea7f44d440c993cb5d87b8b1e25"
          }
        },
        "1fa2612a9c6a4628941cf92e5bdc67e0": {
          "model_module": "@jupyter-widgets/controls",
          "model_name": "HTMLModel",
          "model_module_version": "1.5.0",
          "state": {
            "_dom_classes": [],
            "_model_module": "@jupyter-widgets/controls",
            "_model_module_version": "1.5.0",
            "_model_name": "HTMLModel",
            "_view_count": null,
            "_view_module": "@jupyter-widgets/controls",
            "_view_module_version": "1.5.0",
            "_view_name": "HTMLView",
            "description": "",
            "description_tooltip": null,
            "layout": "IPY_MODEL_e029790810d941abba26380d9509fa49",
            "placeholder": "​",
            "style": "IPY_MODEL_ab3296212c1e4a43a41abf49829d5fd4",
            "value": "Loading checkpoint shards: 100%"
          }
        },
        "9e0d090b21d4477ead4c63fb83822852": {
          "model_module": "@jupyter-widgets/controls",
          "model_name": "FloatProgressModel",
          "model_module_version": "1.5.0",
          "state": {
            "_dom_classes": [],
            "_model_module": "@jupyter-widgets/controls",
            "_model_module_version": "1.5.0",
            "_model_name": "FloatProgressModel",
            "_view_count": null,
            "_view_module": "@jupyter-widgets/controls",
            "_view_module_version": "1.5.0",
            "_view_name": "ProgressView",
            "bar_style": "success",
            "description": "",
            "description_tooltip": null,
            "layout": "IPY_MODEL_56e6803a6ba04593a9f6a936862d88d1",
            "max": 2,
            "min": 0,
            "orientation": "horizontal",
            "style": "IPY_MODEL_6f8d4bc790ae4e05ab836cdabfde249e",
            "value": 2
          }
        },
        "a43710c3299843658f036b1ae170915b": {
          "model_module": "@jupyter-widgets/controls",
          "model_name": "HTMLModel",
          "model_module_version": "1.5.0",
          "state": {
            "_dom_classes": [],
            "_model_module": "@jupyter-widgets/controls",
            "_model_module_version": "1.5.0",
            "_model_name": "HTMLModel",
            "_view_count": null,
            "_view_module": "@jupyter-widgets/controls",
            "_view_module_version": "1.5.0",
            "_view_name": "HTMLView",
            "description": "",
            "description_tooltip": null,
            "layout": "IPY_MODEL_a8278866e1e0445895998a29f4d8707e",
            "placeholder": "​",
            "style": "IPY_MODEL_38eaa85ef9274a2d85085fb6914dea33",
            "value": " 2/2 [00:05&lt;00:00,  2.60s/it]"
          }
        },
        "41e12ea7f44d440c993cb5d87b8b1e25": {
          "model_module": "@jupyter-widgets/base",
          "model_name": "LayoutModel",
          "model_module_version": "1.2.0",
          "state": {
            "_model_module": "@jupyter-widgets/base",
            "_model_module_version": "1.2.0",
            "_model_name": "LayoutModel",
            "_view_count": null,
            "_view_module": "@jupyter-widgets/base",
            "_view_module_version": "1.2.0",
            "_view_name": "LayoutView",
            "align_content": null,
            "align_items": null,
            "align_self": null,
            "border": null,
            "bottom": null,
            "display": null,
            "flex": null,
            "flex_flow": null,
            "grid_area": null,
            "grid_auto_columns": null,
            "grid_auto_flow": null,
            "grid_auto_rows": null,
            "grid_column": null,
            "grid_gap": null,
            "grid_row": null,
            "grid_template_areas": null,
            "grid_template_columns": null,
            "grid_template_rows": null,
            "height": null,
            "justify_content": null,
            "justify_items": null,
            "left": null,
            "margin": null,
            "max_height": null,
            "max_width": null,
            "min_height": null,
            "min_width": null,
            "object_fit": null,
            "object_position": null,
            "order": null,
            "overflow": null,
            "overflow_x": null,
            "overflow_y": null,
            "padding": null,
            "right": null,
            "top": null,
            "visibility": null,
            "width": null
          }
        },
        "e029790810d941abba26380d9509fa49": {
          "model_module": "@jupyter-widgets/base",
          "model_name": "LayoutModel",
          "model_module_version": "1.2.0",
          "state": {
            "_model_module": "@jupyter-widgets/base",
            "_model_module_version": "1.2.0",
            "_model_name": "LayoutModel",
            "_view_count": null,
            "_view_module": "@jupyter-widgets/base",
            "_view_module_version": "1.2.0",
            "_view_name": "LayoutView",
            "align_content": null,
            "align_items": null,
            "align_self": null,
            "border": null,
            "bottom": null,
            "display": null,
            "flex": null,
            "flex_flow": null,
            "grid_area": null,
            "grid_auto_columns": null,
            "grid_auto_flow": null,
            "grid_auto_rows": null,
            "grid_column": null,
            "grid_gap": null,
            "grid_row": null,
            "grid_template_areas": null,
            "grid_template_columns": null,
            "grid_template_rows": null,
            "height": null,
            "justify_content": null,
            "justify_items": null,
            "left": null,
            "margin": null,
            "max_height": null,
            "max_width": null,
            "min_height": null,
            "min_width": null,
            "object_fit": null,
            "object_position": null,
            "order": null,
            "overflow": null,
            "overflow_x": null,
            "overflow_y": null,
            "padding": null,
            "right": null,
            "top": null,
            "visibility": null,
            "width": null
          }
        },
        "ab3296212c1e4a43a41abf49829d5fd4": {
          "model_module": "@jupyter-widgets/controls",
          "model_name": "DescriptionStyleModel",
          "model_module_version": "1.5.0",
          "state": {
            "_model_module": "@jupyter-widgets/controls",
            "_model_module_version": "1.5.0",
            "_model_name": "DescriptionStyleModel",
            "_view_count": null,
            "_view_module": "@jupyter-widgets/base",
            "_view_module_version": "1.2.0",
            "_view_name": "StyleView",
            "description_width": ""
          }
        },
        "56e6803a6ba04593a9f6a936862d88d1": {
          "model_module": "@jupyter-widgets/base",
          "model_name": "LayoutModel",
          "model_module_version": "1.2.0",
          "state": {
            "_model_module": "@jupyter-widgets/base",
            "_model_module_version": "1.2.0",
            "_model_name": "LayoutModel",
            "_view_count": null,
            "_view_module": "@jupyter-widgets/base",
            "_view_module_version": "1.2.0",
            "_view_name": "LayoutView",
            "align_content": null,
            "align_items": null,
            "align_self": null,
            "border": null,
            "bottom": null,
            "display": null,
            "flex": null,
            "flex_flow": null,
            "grid_area": null,
            "grid_auto_columns": null,
            "grid_auto_flow": null,
            "grid_auto_rows": null,
            "grid_column": null,
            "grid_gap": null,
            "grid_row": null,
            "grid_template_areas": null,
            "grid_template_columns": null,
            "grid_template_rows": null,
            "height": null,
            "justify_content": null,
            "justify_items": null,
            "left": null,
            "margin": null,
            "max_height": null,
            "max_width": null,
            "min_height": null,
            "min_width": null,
            "object_fit": null,
            "object_position": null,
            "order": null,
            "overflow": null,
            "overflow_x": null,
            "overflow_y": null,
            "padding": null,
            "right": null,
            "top": null,
            "visibility": null,
            "width": null
          }
        },
        "6f8d4bc790ae4e05ab836cdabfde249e": {
          "model_module": "@jupyter-widgets/controls",
          "model_name": "ProgressStyleModel",
          "model_module_version": "1.5.0",
          "state": {
            "_model_module": "@jupyter-widgets/controls",
            "_model_module_version": "1.5.0",
            "_model_name": "ProgressStyleModel",
            "_view_count": null,
            "_view_module": "@jupyter-widgets/base",
            "_view_module_version": "1.2.0",
            "_view_name": "StyleView",
            "bar_color": null,
            "description_width": ""
          }
        },
        "a8278866e1e0445895998a29f4d8707e": {
          "model_module": "@jupyter-widgets/base",
          "model_name": "LayoutModel",
          "model_module_version": "1.2.0",
          "state": {
            "_model_module": "@jupyter-widgets/base",
            "_model_module_version": "1.2.0",
            "_model_name": "LayoutModel",
            "_view_count": null,
            "_view_module": "@jupyter-widgets/base",
            "_view_module_version": "1.2.0",
            "_view_name": "LayoutView",
            "align_content": null,
            "align_items": null,
            "align_self": null,
            "border": null,
            "bottom": null,
            "display": null,
            "flex": null,
            "flex_flow": null,
            "grid_area": null,
            "grid_auto_columns": null,
            "grid_auto_flow": null,
            "grid_auto_rows": null,
            "grid_column": null,
            "grid_gap": null,
            "grid_row": null,
            "grid_template_areas": null,
            "grid_template_columns": null,
            "grid_template_rows": null,
            "height": null,
            "justify_content": null,
            "justify_items": null,
            "left": null,
            "margin": null,
            "max_height": null,
            "max_width": null,
            "min_height": null,
            "min_width": null,
            "object_fit": null,
            "object_position": null,
            "order": null,
            "overflow": null,
            "overflow_x": null,
            "overflow_y": null,
            "padding": null,
            "right": null,
            "top": null,
            "visibility": null,
            "width": null
          }
        },
        "38eaa85ef9274a2d85085fb6914dea33": {
          "model_module": "@jupyter-widgets/controls",
          "model_name": "DescriptionStyleModel",
          "model_module_version": "1.5.0",
          "state": {
            "_model_module": "@jupyter-widgets/controls",
            "_model_module_version": "1.5.0",
            "_model_name": "DescriptionStyleModel",
            "_view_count": null,
            "_view_module": "@jupyter-widgets/base",
            "_view_module_version": "1.2.0",
            "_view_name": "StyleView",
            "description_width": ""
          }
        }
      }
    }
  },
  "nbformat": 4,
  "nbformat_minor": 0
}